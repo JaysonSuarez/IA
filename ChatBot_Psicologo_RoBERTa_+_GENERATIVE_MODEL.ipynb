{
  "cells": [
    {
      "cell_type": "markdown",
      "metadata": {
        "id": "view-in-github",
        "colab_type": "text"
      },
      "source": [
        "<a href=\"https://colab.research.google.com/github/JaysonSuarez/IA/blob/main/ChatBot_Psicologo_RoBERTa_%2B_GENERATIVE_MODEL.ipynb\" target=\"_parent\"><img src=\"https://colab.research.google.com/assets/colab-badge.svg\" alt=\"Open In Colab\"/></a>"
      ]
    },
    {
      "cell_type": "markdown",
      "id": "2c169c99",
      "metadata": {
        "id": "2c169c99"
      },
      "source": [
        "# RoBERTa con InterTASS\n",
        "Debe descargar el Dataset del siguiente enlace: http://tass.sepln.org/2020/?page_id=74. El archivo .zip llamado: Task 1 - train and dev sets.\n",
        "\n",
        "Y para correr en colab, debe usarse la version que usa GPU para que pueda funcionar."
      ]
    },
    {
      "cell_type": "markdown",
      "id": "ffd4c3ad",
      "metadata": {
        "id": "ffd4c3ad"
      },
      "source": [
        "## Paso 1: Instalación de librerías necesarias"
      ]
    },
    {
      "cell_type": "code",
      "execution_count": null,
      "id": "b87b549f",
      "metadata": {
        "id": "b87b549f"
      },
      "outputs": [],
      "source": [
        "!pip install transformers scikit-learn pandas -q"
      ]
    },
    {
      "cell_type": "code",
      "source": [
        "!pip install --upgrade transformers"
      ],
      "metadata": {
        "id": "7k9_jQidNDa6",
        "colab": {
          "base_uri": "https://localhost:8080/"
        },
        "outputId": "b7802fbb-2d60-4c00-d4fd-aef931862ea7"
      },
      "id": "7k9_jQidNDa6",
      "execution_count": null,
      "outputs": [
        {
          "output_type": "stream",
          "name": "stdout",
          "text": [
            "Requirement already satisfied: transformers in /usr/local/lib/python3.11/dist-packages (4.52.3)\n",
            "Collecting transformers\n",
            "  Downloading transformers-4.52.4-py3-none-any.whl.metadata (38 kB)\n",
            "Requirement already satisfied: filelock in /usr/local/lib/python3.11/dist-packages (from transformers) (3.18.0)\n",
            "Requirement already satisfied: huggingface-hub<1.0,>=0.30.0 in /usr/local/lib/python3.11/dist-packages (from transformers) (0.32.2)\n",
            "Requirement already satisfied: numpy>=1.17 in /usr/local/lib/python3.11/dist-packages (from transformers) (2.0.2)\n",
            "Requirement already satisfied: packaging>=20.0 in /usr/local/lib/python3.11/dist-packages (from transformers) (24.2)\n",
            "Requirement already satisfied: pyyaml>=5.1 in /usr/local/lib/python3.11/dist-packages (from transformers) (6.0.2)\n",
            "Requirement already satisfied: regex!=2019.12.17 in /usr/local/lib/python3.11/dist-packages (from transformers) (2024.11.6)\n",
            "Requirement already satisfied: requests in /usr/local/lib/python3.11/dist-packages (from transformers) (2.32.3)\n",
            "Requirement already satisfied: tokenizers<0.22,>=0.21 in /usr/local/lib/python3.11/dist-packages (from transformers) (0.21.1)\n",
            "Requirement already satisfied: safetensors>=0.4.3 in /usr/local/lib/python3.11/dist-packages (from transformers) (0.5.3)\n",
            "Requirement already satisfied: tqdm>=4.27 in /usr/local/lib/python3.11/dist-packages (from transformers) (4.67.1)\n",
            "Requirement already satisfied: fsspec>=2023.5.0 in /usr/local/lib/python3.11/dist-packages (from huggingface-hub<1.0,>=0.30.0->transformers) (2025.3.2)\n",
            "Requirement already satisfied: typing-extensions>=3.7.4.3 in /usr/local/lib/python3.11/dist-packages (from huggingface-hub<1.0,>=0.30.0->transformers) (4.13.2)\n",
            "Requirement already satisfied: hf-xet<2.0.0,>=1.1.2 in /usr/local/lib/python3.11/dist-packages (from huggingface-hub<1.0,>=0.30.0->transformers) (1.1.2)\n",
            "Requirement already satisfied: charset-normalizer<4,>=2 in /usr/local/lib/python3.11/dist-packages (from requests->transformers) (3.4.2)\n",
            "Requirement already satisfied: idna<4,>=2.5 in /usr/local/lib/python3.11/dist-packages (from requests->transformers) (3.10)\n",
            "Requirement already satisfied: urllib3<3,>=1.21.1 in /usr/local/lib/python3.11/dist-packages (from requests->transformers) (2.4.0)\n",
            "Requirement already satisfied: certifi>=2017.4.17 in /usr/local/lib/python3.11/dist-packages (from requests->transformers) (2025.4.26)\n",
            "Downloading transformers-4.52.4-py3-none-any.whl (10.5 MB)\n",
            "\u001b[2K   \u001b[90m━━━━━━━━━━━━━━━━━━━━━━━━━━━━━━━━━━━━━━━━\u001b[0m \u001b[32m10.5/10.5 MB\u001b[0m \u001b[31m77.0 MB/s\u001b[0m eta \u001b[36m0:00:00\u001b[0m\n",
            "\u001b[?25hInstalling collected packages: transformers\n",
            "  Attempting uninstall: transformers\n",
            "    Found existing installation: transformers 4.52.3\n",
            "    Uninstalling transformers-4.52.3:\n",
            "      Successfully uninstalled transformers-4.52.3\n",
            "Successfully installed transformers-4.52.4\n"
          ]
        }
      ]
    },
    {
      "cell_type": "markdown",
      "source": [
        "transformers: Proporciona acceso a modelos pre-entrenados como RoBERTa, utilizados para el procesamiento del lenguaje natural.\n",
        "scikit-learn: Ofrece herramientas para el aprendizaje automático, incluyendo la codificación de etiquetas.\n",
        "pandas: Permite la manipulación y análisis de datos con estructuras de datos como DataFrames.\n",
        "--upgrade transformers: actualiza la librería transformers para que tengas la versión mas nueva"
      ],
      "metadata": {
        "id": "DLJfsidvRUyX"
      },
      "id": "DLJfsidvRUyX"
    },
    {
      "cell_type": "markdown",
      "id": "afed612c",
      "metadata": {
        "id": "afed612c"
      },
      "source": [
        "## Paso 2: Carga del dataset InterTASS"
      ]
    },
    {
      "cell_type": "code",
      "execution_count": null,
      "id": "145d0193",
      "metadata": {
        "colab": {
          "base_uri": "https://localhost:8080/"
        },
        "id": "145d0193",
        "outputId": "5925c97c-8083-400a-a3c1-f7e1405725f8"
      },
      "outputs": [
        {
          "output_type": "stream",
          "name": "stdout",
          "text": [
            "Train: 4802 muestras\n",
            "Dev:   2443 muestras\n"
          ]
        }
      ],
      "source": [
        "import zipfile, glob, pandas as pd\n",
        "\n",
        "zip_path = '/content/Task1-train-dev.zip'\n",
        "extract_dir = 'intertass'\n",
        "\n",
        "with zipfile.ZipFile(zip_path, 'r') as zf:\n",
        "    zf.extractall(extract_dir)\n",
        "\n",
        "def load_split(split):\n",
        "    files = glob.glob(f\"{extract_dir}/{split}/*.tsv\")\n",
        "    dfs = []\n",
        "    for path in files:\n",
        "        country = path.split('/')[-1].split('.')[0]\n",
        "        df = pd.read_csv(path, sep='\\t', header=None, names=['id','text','label'])\n",
        "        df['country'] = country\n",
        "        dfs.append(df)\n",
        "    return pd.concat(dfs, ignore_index=True)\n",
        "\n",
        "df_train = load_split('train')\n",
        "df_dev   = load_split('dev')\n",
        "\n",
        "print(f\"Train: {df_train.shape[0]} muestras\")\n",
        "print(f\"Dev:   {df_dev.shape[0]} muestras\")"
      ]
    },
    {
      "cell_type": "markdown",
      "source": [
        "Carga el conjunto de datos InterTASS, que contiene texto etiquetado con emociones.\n",
        "\n",
        "Descarga un archivo zip que contiene los datos de entrenamiento y desarrollo (train/dev).\n",
        "Extrae los archivos del zip.\n",
        "Lee los archivos TSV (texto separado por tabulaciones) y los combina en un DataFrame de pandas.\n",
        "El resultado son dos DataFrames: df_train para entrenamiento y df_dev para desarrollo."
      ],
      "metadata": {
        "id": "yYWx_60sRpcK"
      },
      "id": "yYWx_60sRpcK"
    },
    {
      "cell_type": "markdown",
      "id": "f94a7502",
      "metadata": {
        "id": "f94a7502"
      },
      "source": [
        "## Paso 3: Exploración de datos"
      ]
    },
    {
      "cell_type": "code",
      "execution_count": null,
      "id": "67a71991",
      "metadata": {
        "colab": {
          "base_uri": "https://localhost:8080/"
        },
        "id": "67a71991",
        "outputId": "807670d8-9428-4311-e287-8e80d4687f01"
      },
      "outputs": [
        {
          "output_type": "stream",
          "name": "stdout",
          "text": [
            "                   id                                               text  \\\n",
            "0  775087224857567232  Lo que mas amo de mi escritorio es que hay una...   \n",
            "1  778485882647089152  Ese momento en el que no puedes dormir y no sa...   \n",
            "2  774619666505400322  @Fiorela_Gue aw ! recién veo esto, sorrry ! tu...   \n",
            "3  802359837308887040                @CJSuasnabar soy el perro asesinado   \n",
            "4  812398630137012224          @DavidJeffer06 Ay! Esas medias tan lindas   \n",
            "\n",
            "  label country  \n",
            "0     P      pe  \n",
            "1   NEU      pe  \n",
            "2   NEU      pe  \n",
            "3     N      pe  \n",
            "4     P      pe  \n",
            "label\n",
            "N      1885\n",
            "NEU    1523\n",
            "P      1394\n",
            "Name: count, dtype: int64\n"
          ]
        }
      ],
      "source": [
        "print(df_train.head())\n",
        "print(df_train['label'].value_counts())"
      ]
    },
    {
      "cell_type": "markdown",
      "source": [
        "df_train.head(): Muestra las primeras filas del DataFrame de entrenamiento para ver su estructura y contenido.\n",
        "df_train['label'].value_counts(): Cuenta la frecuencia de cada etiqueta de emoción en el conjunto de datos, lo que ayuda a comprender la distribución de las clases."
      ],
      "metadata": {
        "id": "R1klYmkjRzXv"
      },
      "id": "R1klYmkjRzXv"
    },
    {
      "cell_type": "markdown",
      "id": "50429d7c",
      "metadata": {
        "id": "50429d7c"
      },
      "source": [
        "## Paso 4: Preprocesamiento de texto y etiquetas"
      ]
    },
    {
      "cell_type": "code",
      "execution_count": null,
      "id": "217c71bf",
      "metadata": {
        "colab": {
          "base_uri": "https://localhost:8080/"
        },
        "id": "217c71bf",
        "outputId": "81e7b4ea-6038-469b-9c95-7ee6fe18923b"
      },
      "outputs": [
        {
          "output_type": "stream",
          "name": "stdout",
          "text": [
            "{'N': np.int64(0), 'NEU': np.int64(1), 'P': np.int64(2)}\n"
          ]
        }
      ],
      "source": [
        "from sklearn.preprocessing import LabelEncoder\n",
        "\n",
        "le = LabelEncoder()\n",
        "df_train['label_enc'] = le.fit_transform(df_train['label'])\n",
        "df_dev['label_enc']   = le.transform(df_dev['label'])\n",
        "print(dict(zip(le.classes_, le.transform(le.classes_))))"
      ]
    },
    {
      "cell_type": "markdown",
      "source": [
        "Prepara los datos para ser utilizados por el modelo de aprendizaje automático.\n",
        "\n",
        "LabelEncoder: Convierte las etiquetas de texto (como \"joy\", \"sadness\") a valores numéricos (0, 1, 2, etc.). Esto es necesario porque muchos modelos de aprendizaje automático trabajan con datos numéricos."
      ],
      "metadata": {
        "id": "OB5AVHsGSBkp"
      },
      "id": "OB5AVHsGSBkp"
    },
    {
      "cell_type": "markdown",
      "id": "a43c0e7d",
      "metadata": {
        "id": "a43c0e7d"
      },
      "source": [
        "## Paso 5: Tokenización con RoBERTa"
      ]
    },
    {
      "cell_type": "code",
      "execution_count": null,
      "id": "13cdac60",
      "metadata": {
        "colab": {
          "base_uri": "https://localhost:8080/",
          "height": 331,
          "referenced_widgets": [
            "f140451952184e73b4f54946bbca0405",
            "5b90e58db80a44eca270d41220386c71",
            "89d4be55ee6c4aefa450e13d28ddadda",
            "d8269aa281324b869ff1d14299d880a8",
            "1b32cd9bbdd2423b8c82fa3dcaae7ba2",
            "77de47b3c1284df5b51047a24ec6d6d9",
            "c2cc635a9d5e4c0db17f328d7b509bad",
            "310fff3c54f341f6a4687a4a757b546e",
            "fcb1da86360c4bdeb9ea4ab9ad75a735",
            "647033e828424f4dbb17068270e666ff",
            "cc32e11777bb45799681f92f7c7cc821",
            "9d176106fd5048c0b001f7dcf341e5a1",
            "8d0bdffea77e4de08559b3029c1c9f2a",
            "d2e9256c04804e24ad9b9d3546a3c7b0",
            "2a1bf028bbb24a129f15e6a38d81c3c8",
            "0cfd69fda00249d7a3e2ce1e3a12645e",
            "38e2a0e7c1f44928a425ab35cbf6b652",
            "586bf068260749fc9751234c42c82062",
            "92281f8eb4f040d19bf24d3f798fb7a8",
            "6b14a290fafb44abb714eb3c57b42a0d",
            "883758eae70a4ddcadd882efa501ff33",
            "d05e062786b3463ea83ac29ef8a23a97",
            "38b77485d28e44c89e3e60797dcd7f70",
            "d12fb921dade40818c8d72fdaa968860",
            "71482607406e4217b8acd4ae46dcf259",
            "27e4c6ae5407414e923311f08e616842",
            "6213f88a0a8c42d483a0803a09e0255c",
            "91675b8bce6348af858b3e76c7d5441e",
            "23f7928e45684076b18cb2e5b3abd257",
            "77acae6a61464556b1157f439b64ed6c",
            "9f47055117fd47e98df6298a0e2ff49a",
            "fd74e0d185f04ddeb63645fbeab98451",
            "4484fcdd74ac42ff89b5880b72a36021",
            "f080fa001585402cae8c1108e18e8a61",
            "eb3728c74a80463cb7e57e3a4199858f",
            "bc5df39733dd4669b51ee680675d31f4",
            "7cbdfd82615c49f3bc986e9d9fc2519a",
            "e77e11a954e2492189e68ca13d91287b",
            "c8214d16f3d84bca9706337830ec420a",
            "bd878b03cc964b3da398eb1556b0c91c",
            "fb70bd145acd41399c1d62ec48638df9",
            "8e41e5eeb5d5403a934632604e78eddf",
            "1089932fce9a41c6ac8fead22a5bd65b",
            "dced76f044124ce69d43eb7a107e98f7",
            "e2d3d3bd4da2460cb9670216b17760e2",
            "0b98e29af64e49d18013187ddc4b902f",
            "9988874077744f45b4fc03ea62b106a5",
            "6764209f4e4f4868b04d03649cc686c8",
            "c92e8b30d61a4437b0b5b6b5a685aef1",
            "f779f7c98c494176bbff976f9c14b77e",
            "0a014f6b83a04cffbd17c90712fb3992",
            "4181dc82e38244299f9818e6851bceb9",
            "1c5fd7aa47c64186b9f54e753c75fc09",
            "beb9a4ca70cd4b8a9747022ed1fbe163",
            "0b678777186549968270f29827c89bc2",
            "22fceda4e06c44e3af17bcc1d424052e",
            "3932e1de174243eda630ab732ee22ba3",
            "91f22e8c7c6d4b948e26ed6d3a50fe09",
            "604013ece0374b36bd425e2f9b5d315a",
            "ab8486b2e9944e23986cc4696336fb0c",
            "dad53461dba0440b92ee9534e801881c",
            "91d1faae3256464187aa3a1ee1f43f9c",
            "49cf50a8688f49f4a30cf0c6e47be828",
            "4c5483b51d204455bf1408d58efb0565",
            "d418f33994c44aed91fbbbd5920e065a",
            "e75bf864b0b44590b809b3423eaaf3fc"
          ]
        },
        "id": "13cdac60",
        "outputId": "418c7987-c286-4e9a-8396-c432d2321405"
      },
      "outputs": [
        {
          "output_type": "stream",
          "name": "stderr",
          "text": [
            "/usr/local/lib/python3.11/dist-packages/huggingface_hub/utils/_auth.py:94: UserWarning: \n",
            "The secret `HF_TOKEN` does not exist in your Colab secrets.\n",
            "To authenticate with the Hugging Face Hub, create a token in your settings tab (https://huggingface.co/settings/tokens), set it as secret in your Google Colab and restart your session.\n",
            "You will be able to reuse this secret in all of your notebooks.\n",
            "Please note that authentication is recommended but still optional to access public models or datasets.\n",
            "  warnings.warn(\n"
          ]
        },
        {
          "output_type": "display_data",
          "data": {
            "text/plain": [
              "tokenizer_config.json:   0%|          | 0.00/1.46k [00:00<?, ?B/s]"
            ],
            "application/vnd.jupyter.widget-view+json": {
              "version_major": 2,
              "version_minor": 0,
              "model_id": "f140451952184e73b4f54946bbca0405"
            }
          },
          "metadata": {}
        },
        {
          "output_type": "display_data",
          "data": {
            "text/plain": [
              "config.json:   0%|          | 0.00/613 [00:00<?, ?B/s]"
            ],
            "application/vnd.jupyter.widget-view+json": {
              "version_major": 2,
              "version_minor": 0,
              "model_id": "9d176106fd5048c0b001f7dcf341e5a1"
            }
          },
          "metadata": {}
        },
        {
          "output_type": "display_data",
          "data": {
            "text/plain": [
              "vocab.json:   0%|          | 0.00/1.15M [00:00<?, ?B/s]"
            ],
            "application/vnd.jupyter.widget-view+json": {
              "version_major": 2,
              "version_minor": 0,
              "model_id": "38b77485d28e44c89e3e60797dcd7f70"
            }
          },
          "metadata": {}
        },
        {
          "output_type": "display_data",
          "data": {
            "text/plain": [
              "merges.txt:   0%|          | 0.00/509k [00:00<?, ?B/s]"
            ],
            "application/vnd.jupyter.widget-view+json": {
              "version_major": 2,
              "version_minor": 0,
              "model_id": "f080fa001585402cae8c1108e18e8a61"
            }
          },
          "metadata": {}
        },
        {
          "output_type": "display_data",
          "data": {
            "text/plain": [
              "tokenizer.json:   0%|          | 0.00/1.46M [00:00<?, ?B/s]"
            ],
            "application/vnd.jupyter.widget-view+json": {
              "version_major": 2,
              "version_minor": 0,
              "model_id": "e2d3d3bd4da2460cb9670216b17760e2"
            }
          },
          "metadata": {}
        },
        {
          "output_type": "display_data",
          "data": {
            "text/plain": [
              "special_tokens_map.json:   0%|          | 0.00/772 [00:00<?, ?B/s]"
            ],
            "application/vnd.jupyter.widget-view+json": {
              "version_major": 2,
              "version_minor": 0,
              "model_id": "22fceda4e06c44e3af17bcc1d424052e"
            }
          },
          "metadata": {}
        },
        {
          "output_type": "stream",
          "name": "stdout",
          "text": [
            "torch.Size([4802, 128]) torch.Size([2443, 128])\n"
          ]
        }
      ],
      "source": [
        "from transformers import AutoTokenizer\n",
        "\n",
        "tokenizer = AutoTokenizer.from_pretrained('BSC-TeMU/roberta-base-bne')\n",
        "def tokenize(df):\n",
        "    return tokenizer(\n",
        "        df['text'].tolist(), padding='max_length', truncation=True, max_length=128, return_tensors='pt'\n",
        "    )\n",
        "train_enc = tokenize(df_train)\n",
        "dev_enc   = tokenize(df_dev)\n",
        "print(train_enc['input_ids'].shape, dev_enc['input_ids'].shape)"
      ]
    },
    {
      "cell_type": "markdown",
      "source": [
        "Convierte el texto en una secuencia de tokens (unidades básicas de significado) que el modelo RoBERTa pueda entender.\n",
        "\n",
        "AutoTokenizer: Carga un tokenizador pre-entrenado para RoBERTa.\n",
        "tokenize(): Aplica el tokenizador al texto de los DataFrames, convirtiéndolo en secuencias numéricas y añadiendo padding para que todas las secuencias tengan la misma longitud."
      ],
      "metadata": {
        "id": "lQcGooSqSI6o"
      },
      "id": "lQcGooSqSI6o"
    },
    {
      "cell_type": "markdown",
      "id": "e02aac83",
      "metadata": {
        "id": "e02aac83"
      },
      "source": [
        "## Paso 6: Fine-Tuning del modelo RoBERTa"
      ]
    },
    {
      "cell_type": "code",
      "execution_count": null,
      "id": "0da4cf0b",
      "metadata": {
        "colab": {
          "base_uri": "https://localhost:8080/",
          "height": 596
        },
        "id": "0da4cf0b",
        "outputId": "0b99390e-69c1-4cee-e2fa-79a23fd5f874"
      },
      "outputs": [
        {
          "output_type": "stream",
          "name": "stderr",
          "text": [
            "Some weights of RobertaForSequenceClassification were not initialized from the model checkpoint at BSC-TeMU/roberta-base-bne and are newly initialized: ['classifier.dense.bias', 'classifier.dense.weight', 'classifier.out_proj.bias', 'classifier.out_proj.weight']\n",
            "You should probably TRAIN this model on a down-stream task to be able to use it for predictions and inference.\n",
            "<ipython-input-9-2c43e201e2cc>:31: UserWarning: To copy construct from a tensor, it is recommended to use sourceTensor.clone().detach() or sourceTensor.clone().detach().requires_grad_(True), rather than torch.tensor(sourceTensor).\n",
            "  item = {key: torch.tensor(val[idx]) for key, val in self.encodings.items()}\n"
          ]
        },
        {
          "output_type": "display_data",
          "data": {
            "text/plain": [
              "<IPython.core.display.HTML object>"
            ],
            "text/html": [
              "\n",
              "    <div>\n",
              "      \n",
              "      <progress value='3005' max='3005' style='width:300px; height:20px; vertical-align: middle;'></progress>\n",
              "      [3005/3005 11:17, Epoch 5/5]\n",
              "    </div>\n",
              "    <table border=\"1\" class=\"dataframe\">\n",
              "  <thead>\n",
              " <tr style=\"text-align: left;\">\n",
              "      <th>Step</th>\n",
              "      <th>Training Loss</th>\n",
              "    </tr>\n",
              "  </thead>\n",
              "  <tbody>\n",
              "    <tr>\n",
              "      <td>500</td>\n",
              "      <td>0.820300</td>\n",
              "    </tr>\n",
              "    <tr>\n",
              "      <td>1000</td>\n",
              "      <td>0.532500</td>\n",
              "    </tr>\n",
              "    <tr>\n",
              "      <td>1500</td>\n",
              "      <td>0.297300</td>\n",
              "    </tr>\n",
              "    <tr>\n",
              "      <td>2000</td>\n",
              "      <td>0.136400</td>\n",
              "    </tr>\n",
              "    <tr>\n",
              "      <td>2500</td>\n",
              "      <td>0.054200</td>\n",
              "    </tr>\n",
              "    <tr>\n",
              "      <td>3000</td>\n",
              "      <td>0.021900</td>\n",
              "    </tr>\n",
              "  </tbody>\n",
              "</table><p>"
            ]
          },
          "metadata": {}
        },
        {
          "output_type": "stream",
          "name": "stderr",
          "text": [
            "<ipython-input-9-2c43e201e2cc>:31: UserWarning: To copy construct from a tensor, it is recommended to use sourceTensor.clone().detach() or sourceTensor.clone().detach().requires_grad_(True), rather than torch.tensor(sourceTensor).\n",
            "  item = {key: torch.tensor(val[idx]) for key, val in self.encodings.items()}\n",
            "<ipython-input-9-2c43e201e2cc>:31: UserWarning: To copy construct from a tensor, it is recommended to use sourceTensor.clone().detach() or sourceTensor.clone().detach().requires_grad_(True), rather than torch.tensor(sourceTensor).\n",
            "  item = {key: torch.tensor(val[idx]) for key, val in self.encodings.items()}\n",
            "<ipython-input-9-2c43e201e2cc>:31: UserWarning: To copy construct from a tensor, it is recommended to use sourceTensor.clone().detach() or sourceTensor.clone().detach().requires_grad_(True), rather than torch.tensor(sourceTensor).\n",
            "  item = {key: torch.tensor(val[idx]) for key, val in self.encodings.items()}\n",
            "<ipython-input-9-2c43e201e2cc>:31: UserWarning: To copy construct from a tensor, it is recommended to use sourceTensor.clone().detach() or sourceTensor.clone().detach().requires_grad_(True), rather than torch.tensor(sourceTensor).\n",
            "  item = {key: torch.tensor(val[idx]) for key, val in self.encodings.items()}\n",
            "<ipython-input-9-2c43e201e2cc>:31: UserWarning: To copy construct from a tensor, it is recommended to use sourceTensor.clone().detach() or sourceTensor.clone().detach().requires_grad_(True), rather than torch.tensor(sourceTensor).\n",
            "  item = {key: torch.tensor(val[idx]) for key, val in self.encodings.items()}\n",
            "<ipython-input-9-2c43e201e2cc>:31: UserWarning: To copy construct from a tensor, it is recommended to use sourceTensor.clone().detach() or sourceTensor.clone().detach().requires_grad_(True), rather than torch.tensor(sourceTensor).\n",
            "  item = {key: torch.tensor(val[idx]) for key, val in self.encodings.items()}\n"
          ]
        },
        {
          "output_type": "execute_result",
          "data": {
            "text/plain": [
              "TrainOutput(global_step=3005, training_loss=0.3099130956136843, metrics={'train_runtime': 677.4322, 'train_samples_per_second': 35.443, 'train_steps_per_second': 4.436, 'total_flos': 1579338289912320.0, 'train_loss': 0.3099130956136843, 'epoch': 5.0})"
            ]
          },
          "metadata": {},
          "execution_count": 9
        }
      ],
      "source": [
        "from transformers import AutoModelForSequenceClassification, Trainer, TrainingArguments\n",
        "import torch\n",
        "import os\n",
        "os.environ[\"WANDB_DISABLED\"] = \"true\"\n",
        "\n",
        "model = AutoModelForSequenceClassification.from_pretrained(\n",
        "    'BSC-TeMU/roberta-base-bne', num_labels=len(le.classes_)\n",
        ")\n",
        "train_dataset = torch.utils.data.TensorDataset(\n",
        "    train_enc['input_ids'], train_enc['attention_mask'], torch.tensor(df_train['label_enc'].values)\n",
        ")\n",
        "dev_dataset   = torch.utils.data.TensorDataset(\n",
        "    dev_enc['input_ids'], dev_enc['attention_mask'],   torch.tensor(df_dev['label_enc'].values)\n",
        ")\n",
        "\n",
        "def compute_metrics(eval_pred):\n",
        "    logits, labels = eval_pred\n",
        "    preds = logits.argmax(axis=-1)\n",
        "    from sklearn.metrics import f1_score\n",
        "    return {\n",
        "        'accuracy': (preds == labels).mean(),\n",
        "        'f1_macro': f1_score(labels, preds, average='macro')\n",
        "    }\n",
        "\n",
        "class IntertassDataset(torch.utils.data.Dataset):\n",
        "    def __init__(self, encodings, labels):\n",
        "        self.encodings = encodings\n",
        "        self.labels = labels\n",
        "\n",
        "    def __getitem__(self, idx):\n",
        "        item = {key: torch.tensor(val[idx]) for key, val in self.encodings.items()}\n",
        "        item['labels'] = torch.tensor(self.labels[idx])\n",
        "        return item\n",
        "\n",
        "    def __len__(self):\n",
        "        return len(self.labels)\n",
        "\n",
        "train_dataset = IntertassDataset(train_enc, df_train['label_enc'].values)\n",
        "dev_dataset = IntertassDataset(dev_enc, df_dev['label_enc'].values)\n",
        "\n",
        "training_args = TrainingArguments(\n",
        "    output_dir='./results',\n",
        "    do_train=True,\n",
        "    do_eval=True,\n",
        "    logging_steps=500,\n",
        "    per_device_train_batch_size=8,\n",
        "    per_device_eval_batch_size=8,\n",
        "    num_train_epochs=5,\n",
        "    learning_rate=2e-5,\n",
        "    report_to='none'\n",
        ")\n",
        "\n",
        "trainer = Trainer(\n",
        "    model=model,\n",
        "    args=training_args,\n",
        "    train_dataset=train_dataset,\n",
        "    eval_dataset=dev_dataset,\n",
        "    compute_metrics=compute_metrics\n",
        ")\n",
        "trainer.train()"
      ]
    },
    {
      "cell_type": "code",
      "source": [
        "import matplotlib.pyplot as plt\n",
        "import pandas as pd\n",
        "import seaborn as sns\n",
        "\n",
        "# 1. Distribution of Labels in the Training Set\n",
        "plt.figure(figsize=(10, 5))\n",
        "sns.countplot(x='label', data=df_train)\n",
        "plt.title('Distribution of Labels in Training Set')\n",
        "plt.xlabel('Sentiment Label')\n",
        "plt.ylabel('Number of Samples')\n",
        "plt.show()\n",
        "\n",
        "\n",
        "# 2. Distribution of Labels in the Development Set\n",
        "plt.figure(figsize=(10, 5))\n",
        "sns.countplot(x='label', data=df_dev)\n",
        "plt.title('Distribution of Labels in Development Set')\n",
        "plt.xlabel('Sentiment Label')\n",
        "plt.ylabel('Number of Samples')\n",
        "plt.show()\n",
        "\n",
        "\n",
        "# 3. Text Length Analysis (optional - requires text length calculation)\n",
        "# Calculate the length of each text in the training set\n",
        "df_train['text_length'] = df_train['text'].apply(len)\n",
        "\n",
        "# Create the plot\n",
        "plt.figure(figsize=(10, 5))\n",
        "sns.histplot(df_train['text_length'], kde=True)\n",
        "plt.title('Distribution of Text Lengths in the Training Set')\n",
        "plt.xlabel('Text Length (Characters)')\n",
        "plt.ylabel('Number of Samples')\n",
        "plt.show()\n"
      ],
      "metadata": {
        "colab": {
          "base_uri": "https://localhost:8080/",
          "height": 1000
        },
        "id": "Rt86ScSTG4Jd",
        "outputId": "fbfb6a66-5695-47c1-a08c-b564c0333450"
      },
      "id": "Rt86ScSTG4Jd",
      "execution_count": null,
      "outputs": [
        {
          "output_type": "display_data",
          "data": {
            "text/plain": [
              "<Figure size 1000x500 with 1 Axes>"
            ],
            "image/png": "[encoded data removed]"
          },
          "metadata": {}
        },
        {
          "output_type": "display_data",
          "data": {
            "text/plain": [
              "<Figure size 1000x500 with 1 Axes>"
            ],
            "image/png": "[encoded data removed]"
          },
          "metadata": {}
        },
        {
          "output_type": "display_data",
          "data": {
            "text/plain": [
              "<Figure size 1000x500 with 1 Axes>"
            ],
            "image/png": "[encoded data removed]"
          },
          "metadata": {}
        }
      ]
    },
    {
      "cell_type": "markdown",
      "source": [
        "Entrena el modelo RoBERTa para la tarea específica de análisis de sentimientos en el dataset InterTASS.\n",
        "\n",
        "AutoModelForSequenceClassification: Carga un modelo RoBERTa pre-entrenado y lo adapta para la clasificación de secuencias (en este caso, clasificar emociones).\n",
        "Trainer: Se encarga del proceso de entrenamiento, incluyendo la optimización de los parámetros del modelo.\n",
        "compute_metrics: Define las métricas que se usarán para evaluar el rendimiento del modelo durante el entrenamiento, como la precisión y la puntuación F1."
      ],
      "metadata": {
        "id": "d353ZVumSQZL"
      },
      "id": "d353ZVumSQZL"
    },
    {
      "cell_type": "markdown",
      "id": "c9b69360",
      "metadata": {
        "id": "c9b69360"
      },
      "source": [
        "## Paso 7: Evaluación y prueba de ejemplo"
      ]
    },
    {
      "cell_type": "code",
      "execution_count": null,
      "id": "1fd58d05",
      "metadata": {
        "colab": {
          "base_uri": "https://localhost:8080/"
        },
        "id": "1fd58d05",
        "outputId": "971fdbe2-932b-478f-a638-9d30dcfad728"
      },
      "outputs": [
        {
          "name": "stdout",
          "output_type": "stream",
          "text": [
            "Introduce el texto para predecir el sentimiento: fin\n"
          ]
        }
      ],
      "source": [
        "def predict(text):\n",
        "    enc = tokenizer(text, return_tensors='pt', truncation=True, padding=True)\n",
        "    # Move the encoded input to the same device as the model\n",
        "    enc = {k: v.to(model.device) for k, v in enc.items()}\n",
        "    logits = model(**enc).logits\n",
        "    return le.inverse_transform([logits.argmax().item()])[0]\n",
        "\n",
        "\n",
        "while True:\n",
        "  user_input = input(\"Introduce el texto para predecir el sentimiento: \")\n",
        "  if user_input.lower() in [\"basta\", \"stop\", \"salir\", \"exit\", \"fin\", \"end\"]:\n",
        "    break\n",
        "  prediction = predict(user_input)\n",
        "  print(f\"El sentimiento predicho es: {prediction}\")"
      ]
    },
    {
      "cell_type": "markdown",
      "source": [
        " Toma un texto como entrada, lo tokeniza, lo pasa por el modelo y devuelve la etiqueta de emoción predicha."
      ],
      "metadata": {
        "id": "6BMlw5f0Sibb"
      },
      "id": "6BMlw5f0Sibb"
    },
    {
      "cell_type": "markdown",
      "source": [
        "Ya que RoBERTa no es un LLM sino un Classifier, generamos un diccionario de posibles respuestas a las preguntas del user con el fin de:\n",
        "\n",
        "**1. Clasificar la emoción**\n",
        "\n",
        "**2. Analizar la emoción**\n",
        "\n",
        "**3. \"Generar\" respuestas segun la emoción clasificada**"
      ],
      "metadata": {
        "id": "DCFnjogdqPF3"
      },
      "id": "DCFnjogdqPF3"
    },
    {
      "cell_type": "code",
      "source": [
        "import random\n",
        "\n",
        "# Diccionario de respuestas según emoción\n",
        "respuestas = {\n",
        "    \"tristeza\": [\n",
        "        \"Lamento que te sientas así. Estoy aquí para escucharte.\",\n",
        "        \"Es normal sentirse triste a veces. ¿Quieres hablar más al respecto?\",\n",
        "        \"Tus emociones son válidas. No estás solo/a en esto.\",\n",
        "        \"Estoy aquí para ti. Cuéntame más si lo deseas.\",\n",
        "        \"La tristeza es una emoción humana. Permítete sentirla y expresarla.\"\n",
        "    ],\n",
        "    \"ansiedad\": [\n",
        "        \"Parece que estás experimentando ansiedad. Respirar profundamente puede ayudarte a calmarte.\",\n",
        "        \"La ansiedad puede ser abrumadora. Estoy aquí para apoyarte.\",\n",
        "        \"Recuerda que no estás solo/a. Hablar sobre lo que sientes puede aliviar la carga.\",\n",
        "        \"¿Hay algo específico que te preocupa? Compartirlo puede ayudarte a procesarlo.\",\n",
        "        \"La ansiedad es una respuesta natural al estrés. Juntos podemos encontrar formas de manejarla.\"\n",
        "    ],\n",
        "    \"ira\": [\n",
        "        \"Entiendo que te sientas enojado/a. Es importante reconocer esa emoción.\",\n",
        "        \"La ira puede ser una señal de que algo no está bien. ¿Quieres hablar sobre ello?\",\n",
        "        \"Tomarse un momento para respirar puede ayudar a manejar la ira.\",\n",
        "        \"Estoy aquí para escucharte sin juzgar. Cuéntame qué te ha molestado.\",\n",
        "        \"La ira es válida, pero encontrar formas saludables de expresarla es crucial.\"\n",
        "    ],\n",
        "    \"miedo\": [\n",
        "        \"El miedo es una emoción natural ante lo desconocido. Estoy aquí contigo.\",\n",
        "        \"Hablar sobre lo que te asusta puede disminuir su poder. ¿Quieres compartirlo?\",\n",
        "        \"Recuerda que eres fuerte y capaz de enfrentar tus temores.\",\n",
        "        \"No estás solo/a en esto. Juntos podemos encontrar maneras de afrontarlo.\",\n",
        "        \"Es valiente reconocer que sientes miedo. Estoy aquí para apoyarte.\"\n",
        "    ],\n",
        "    \"alegría\": [\n",
        "        \"¡Me alegra saber que te sientes bien! Comparte más sobre eso.\",\n",
        "        \"Es maravilloso que experimentes alegría. Disfruta el momento.\",\n",
        "        \"La alegría es contagiosa. Gracias por compartirla conmigo.\",\n",
        "        \"Celebremos juntos tu felicidad. ¿Qué te ha hecho sentir así?\",\n",
        "        \"Es genial escuchar noticias positivas. ¡Sigue compartiéndolas!\"\n",
        "    ],\n",
        "    \"sorpresa\": [\n",
        "        \"¡Vaya, eso suena inesperado! ¿Cómo te sientes al respecto?\",\n",
        "        \"Las sorpresas pueden ser emocionantes o desconcertantes. ¿Cuál fue tu reacción?\",\n",
        "        \"Cuéntame más sobre lo que te sorprendió. Estoy interesado/a en saber.\",\n",
        "        \"A veces, las sorpresas nos sacan de la rutina. ¿Fue una sorpresa agradable?\",\n",
        "        \"Es interesante cómo ocurren cosas inesperadas. ¿Cómo lo estás manejando?\"\n",
        "    ],\n",
        "    \"desagrado\": [\n",
        "        \"Entiendo que algo te ha causado desagrado. ¿Quieres hablar sobre ello?\",\n",
        "        \"Es importante reconocer lo que no nos agrada. Estoy aquí para escucharte.\",\n",
        "        \"Compartir lo que te molesta puede ayudarte a procesarlo.\",\n",
        "        \"Todos experimentamos desagrado en algún momento. No estás solo/a.\",\n",
        "        \"Hablar sobre lo que te incomoda puede ser liberador. ¿Te gustaría compartirlo?\"\n",
        "    ],\n",
        "    \"confianza\": [\n",
        "        \"Es genial que te sientas confiado/a. Esa es una emoción poderosa.\",\n",
        "        \"La confianza en uno mismo es clave para el bienestar. ¡Sigue así!\",\n",
        "        \"Me alegra saber que te sientes seguro/a. ¿Qué ha contribuido a eso?\",\n",
        "        \"La confianza puede abrir muchas puertas. ¿Hay algo que te gustaría compartir?\",\n",
        "        \"Es inspirador ver tu confianza. ¿Qué te ha llevado a sentirte así?\"\n",
        "    ]\n",
        "}\n",
        "\n",
        "# Función para obtener una respuesta empática\n",
        "def obtener_respuesta_emocional(emocion):\n",
        "    return random.choice(respuestas.get(emocion, [\"Estoy aquí para ti. Cuéntame más.\"]))\n"
      ],
      "metadata": {
        "id": "UVt1VlrgqMLP"
      },
      "id": "UVt1VlrgqMLP",
      "execution_count": null,
      "outputs": []
    },
    {
      "cell_type": "code",
      "source": [
        "polarity_to_possible_emotions = {\n",
        "    \"p\": [\"alegría\",\"sorpresa\"],       # Positive could relate to joy or surprise\n",
        "    \"n\": [\"tristeza\", \"miedo\", \"ansiedad\", \"ira\", \"desagrado\", \"frustrado\"], # Negative could relate to several negative emotions\n",
        "    \"neu\": [\"confianza\"]    # Neutral is harder to map; 'confianza' might fit some neutral contexts\n",
        "    # You could add 'none': [] or similar if your dataset includes 'NONE'\n",
        "}\n",
        "\n",
        "# Permitir al usuario ingresar texto y obtener una respuesta basada en la polaridad detectada\n",
        "while True:\n",
        "  user_input = input(\"¿Cómo te sientes hoy? (escribe 'salir' para terminar): \")\n",
        "  if user_input.lower() in [\"salir\", \"terminar\", \"adiós\"]:\n",
        "    print(\"¡Hasta luego!\")\n",
        "    break\n",
        "  if user_input:\n",
        "    try:\n",
        "      # Usar la función predict para obtener la POLARITY (P, N, NEU)\n",
        "      predicted_polarity = predict(user_input)\n",
        "      print(f\"La polaridad predicha es: {predicted_polarity.capitalize()}\")\n",
        "\n",
        "      # Convert the predicted polarity to lowercase\n",
        "      predicted_polarity_lower = predicted_polarity.lower()\n",
        "\n",
        "      # Get the list of possible emotions for this polarity\n",
        "      possible_emotions = polarity_to_possible_emotions.get(predicted_polarity_lower, []) # Default to empty list if polarity not found\n",
        "\n",
        "      respuesta = \"Entiendo. Estoy aquí para escucharte si quieres compartir más.\" # Default response if no matching emotion found\n",
        "\n",
        "      if possible_emotions:\n",
        "          # Pick one emotion randomly from the list of possible emotions for this polarity\n",
        "          # Ensure the chosen emotion is a key in the 'respuestas' dictionary before using it\n",
        "          valid_possible_emotions = [emo for emo in possible_emotions if emo in respuestas]\n",
        "\n",
        "          if valid_possible_emotions:\n",
        "              chosen_emotion = random.choice(valid_possible_emotions)\n",
        "              # Get a response for the chosen emotion using the original function\n",
        "              respuesta = obtener_respuesta_emocional(chosen_emotion)\n",
        "          # If possible_emotions list was not empty but none were valid keys in 'respuestas',\n",
        "          # we keep the default response defined above.\n",
        "\n",
        "      print(respuesta)\n",
        "\n",
        "    except Exception as e:\n",
        "      print(f\"Ocurrió un error al procesar tu entrada: {e}\")\n",
        "      # Print the traceback to help diagnose the error if needed\n",
        "      import traceback\n",
        "      traceback.print_exc()\n",
        "  else:\n",
        "    print(\"Por favor, ingresa algo sobre cómo te sientes.\")"
      ],
      "metadata": {
        "colab": {
          "base_uri": "https://localhost:8080/"
        },
        "id": "qNf0AzFavK6X",
        "outputId": "15ec0281-491b-40d9-a72d-055835f32bcf"
      },
      "id": "qNf0AzFavK6X",
      "execution_count": null,
      "outputs": [
        {
          "output_type": "stream",
          "name": "stdout",
          "text": [
            "¿Cómo te sientes hoy? (escribe 'salir' para terminar): feliz\n",
            "La polaridad predicha es: Neu\n",
            "Es genial que te sientas confiado/a. Esa es una emoción poderosa.\n",
            "¿Cómo te sientes hoy? (escribe 'salir' para terminar): salir\n",
            "¡Hasta luego!\n"
          ]
        }
      ]
    },
    {
      "cell_type": "code",
      "source": [
        "!pip install cohere -q"
      ],
      "metadata": {
        "colab": {
          "base_uri": "https://localhost:8080/"
        },
        "id": "6lrTCoU103nf",
        "outputId": "743931e5-589c-4279-dfc7-b4d4a347d7da"
      },
      "id": "6lrTCoU103nf",
      "execution_count": null,
      "outputs": [
        {
          "output_type": "stream",
          "name": "stdout",
          "text": [
            "\u001b[?25l   \u001b[90m━━━━━━━━━━━━━━━━━━━━━━━━━━━━━━━━━━━━━━━━\u001b[0m \u001b[32m0.0/259.5 kB\u001b[0m \u001b[31m?\u001b[0m eta \u001b[36m-:--:--\u001b[0m\r\u001b[2K   \u001b[90m━━━━━━━━━━━━━━━━━━━━━━━━━━━━━━━━━━━━━━━━\u001b[0m \u001b[32m259.5/259.5 kB\u001b[0m \u001b[31m12.9 MB/s\u001b[0m eta \u001b[36m0:00:00\u001b[0m\n",
            "\u001b[?25h\u001b[?25l   \u001b[90m━━━━━━━━━━━━━━━━━━━━━━━━━━━━━━━━━━━━━━━━\u001b[0m \u001b[32m0.0/3.3 MB\u001b[0m \u001b[31m?\u001b[0m eta \u001b[36m-:--:--\u001b[0m\r\u001b[2K   \u001b[91m━━━━━━━━━━━━━━━━━━━━━━━━━━━━━━━━━━━━━━━\u001b[0m\u001b[91m╸\u001b[0m \u001b[32m3.3/3.3 MB\u001b[0m \u001b[31m181.4 MB/s\u001b[0m eta \u001b[36m0:00:01\u001b[0m\r\u001b[2K   \u001b[90m━━━━━━━━━━━━━━━━━━━━━━━━━━━━━━━━━━━━━━━━\u001b[0m \u001b[32m3.3/3.3 MB\u001b[0m \u001b[31m91.4 MB/s\u001b[0m eta \u001b[36m0:00:00\u001b[0m\n",
            "\u001b[?25h"
          ]
        }
      ]
    },
    {
      "cell_type": "code",
      "source": [
        "import cohere\n",
        "import random # Ensure random is imported if needed for the second loop (which it is for random.choice)\n",
        "import traceback # Ensure traceback is imported for error handling\n",
        "\n",
        "\n",
        "co = cohere.ClientV2('uGJ50Z2ilig2S60S5GbsIcIEwp1FdzosdkXkDsm8')\n",
        "\n",
        "print(\"\"\"-Recuerda que este chatbot es solo una herramienta de apoyo y no un sustituto de la ayuda profesional.\n",
        "Las respuestas que se generen son con fines de mejora y no deben ser consideradas como un diagnóstico o tratamiento profesional.-\"\"\")\n",
        "\n",
        "\n",
        "# Function to generate text using Cohere based on the detected emotion\n",
        "def generate_cohere_response(emotion, user_text):\n",
        "    prompt = f\"El usuario expresó un sentimiento de {emotion} con el texto: \\\"{user_text}\\\". Genera una respuesta empática y comprensiva en español basada en este sentimiento.\"\n",
        "\n",
        "    try:\n",
        "        response = co.chat(\n",
        "             model='command-a-03-2025',\n",
        "             messages=[\n",
        "                 {'role': 'system', 'content': f'Eres un chat únicamente entrenado para dar respuestas de ayuda psicológica, ninguna otra. Solo debes dar respuestas mejorativas, y no debes dar diagnósticos o tratamientos, ya que no eres un profesional. Responde de forma empática y comprensiva al usuario que expresó un sentimiento de {emotion} con el texto: \"{user_text}\".'},\n",
        "                 {'role': 'user', 'content': user_text}\n",
        "             ]\n",
        "         )\n",
        "        # Extract the text content from the response message\n",
        "        return response.message.content[0].text.strip()\n",
        "\n",
        "    except Exception as e:\n",
        "        print(f\"Error generating Cohere response: {e}\")\n",
        "        return \"No pude generar una respuesta en este momento.\"\n",
        "\n",
        "# Modify the main loop to use Cohere for generation\n",
        "while True:\n",
        "  user_input = input(\"¿Cómo te sientes hoy? (escribe 'salir' para terminar): \")\n",
        "  if user_input.lower() in [\"salir\", \"terminar\", \"adiós\"]:\n",
        "    print(\"¡Hasta luego!\")\n",
        "    break\n",
        "  if user_input:\n",
        "    try:\n",
        "      predicted_polarity = predict(user_input)\n",
        "      print(f\"La polaridad predicha es: {predicted_polarity.capitalize()}\")\n",
        "\n",
        "      # Convert the predicted polarity to lowercase\n",
        "      predicted_polarity_lower = predicted_polarity.lower()\n",
        "\n",
        "      # Get the list of possible emotions for this polarity\n",
        "      possible_emotions = polarity_to_possible_emotions.get(predicted_polarity_lower, [])\n",
        "\n",
        "      respuesta = \"Entiendo. Estoy aquí para escucharte si quieres compartir más.\" # Default response\n",
        "\n",
        "      if possible_emotions:\n",
        "          # Pick one emotion randomly from the list of possible emotions for this polarity\n",
        "          valid_possible_emotions = [emo for emo in possible_emotions if emo in respuestas]\n",
        "\n",
        "          if valid_possible_emotions:\n",
        "              chosen_emotion = random.choice(valid_possible_emotions)\n",
        "              print(f\"(El chatbot interpretará esto como {chosen_emotion})\") # Optional: show the interpreted emotion\n",
        "              # Use Cohere to generate a response based on the chosen emotion and user text\n",
        "              respuesta = generate_cohere_response(chosen_emotion, user_input)\n",
        "      print(respuesta)\n",
        "\n",
        "    except Exception as e:\n",
        "      print(f\"Ocurrió un error al procesar tu entrada: {e}\")\n",
        "      traceback.print_exc()\n",
        "  else:\n",
        "    print(\"Por favor, ingresa algo sobre cómo te sientes.\")"
      ],
      "metadata": {
        "colab": {
          "base_uri": "https://localhost:8080/"
        },
        "id": "JIV0hMpzzo8G",
        "outputId": "9af62222-ea1c-4fac-c2e2-de540193fdcf"
      },
      "id": "JIV0hMpzzo8G",
      "execution_count": null,
      "outputs": [
        {
          "output_type": "stream",
          "name": "stdout",
          "text": [
            "-Recuerda que este chatbot es solo una herramienta de apoyo y no un sustituto de la ayuda profesional.\n",
            "Las respuestas que se generen son con fines de mejora y no deben ser consideradas como un diagnóstico o tratamiento profesional.-\n",
            "¿Cómo te sientes hoy? (escribe 'salir' para terminar): frustrado\n",
            "La polaridad predicha es: Neu\n",
            "(El chatbot interpretará esto como confianza)\n",
            "Entiendo que te sientas frustrado. La frustración es una emoción muy común cuando las cosas no salen como esperamos o cuando nos enfrentamos a obstáculos que parecen insuperables. Es importante reconocer y validar esa emoción, porque es una señal de que algo en tu vida necesita atención.\n",
            "\n",
            "Recuerda que la frustración no tiene por qué ser permanente. Aquí tienes algunas sugerencias que podrían ayudarte a manejarla:\n",
            "\n",
            "1. **Identifica la fuente**: Trata de entender qué es lo que te está causando frustración. ¿Es una situación específica, una persona, o quizás una expectativa que no se ha cumplido?\n",
            "\n",
            "2. **Expresa tus sentimientos**: Hablar con alguien de confianza o escribir sobre lo que sientes puede ayudarte a liberar esa tensión acumulada.\n",
            "\n",
            "3. **Busca soluciones pequeñas**: A veces, dividir un problema grande en pasos más pequeños y manejables puede hacer que se sienta menos abrumador.\n",
            "\n",
            "4. **Toma un descanso**: Si es posible, aléjate de la situación por un momento. Un poco de distancia puede ayudarte a ver las cosas desde una perspectiva diferente.\n",
            "\n",
            "5. **Practica la paciencia**: Recuerda que el cambio lleva tiempo. Sé amable contigo mismo y reconoce que estás haciendo lo mejor que puedes.\n",
            "\n",
            "Si sientes que la frustración es abrumadora, no dudes en buscar apoyo adicional, ya sea de amigos, familiares o un profesional de la salud mental. Estás haciendo un gran trabajo al reconocer y enfrentar tus emociones. ¡Ánimo!\n",
            "¿Cómo te sientes hoy? (escribe 'salir' para terminar): stop\n",
            "La polaridad predicha es: Neu\n",
            "(El chatbot interpretará esto como confianza)\n",
            "Entiendo que has decidido detenerte aquí, y eso está bien. A veces, simplemente necesitamos un momento para respirar y reflexionar. Si te sientes abrumado o necesitas un espacio para procesar tus pensamientos, recuerda que está bien tomarse un tiempo para ti mismo. \n",
            "\n",
            "Si en algún momento sientes que necesitas apoyo o simplemente alguien que te escuche, aquí estoy para ofrecerte un espacio seguro y sin juicios. Cuídate mucho, y recuerda que está bien no estar bien todo el tiempo. 🌟\n",
            "¿Cómo te sientes hoy? (escribe 'salir' para terminar): salir\n",
            "¡Hasta luego!\n"
          ]
        }
      ]
    },
    {
      "cell_type": "markdown",
      "source": [
        "# Este código ya utiliza una forma Prompt Chaining\n",
        "El segundo bucle while utiliza la polaridad_prevista del modelo RoBERTa\n",
        "(que está entrenado en el conjunto de datos TASS) para determinar un conjunto potencial de emociones. A continuación, utiliza una emoción elegida al azar de ese conjunto, junto con la entrada original del usuario, como parte de la solicitud de la API Cohere para generar una respuesta más matizada y contextualmente relevante.\n",
        "\n",
        "# El código actual ya demuestra una cadena simple:\n",
        "Entrada del Usuario -> Predicción RoBERTa (Polaridad) -> Asignar Polaridad a Posibles Emociones -> Elegir Emoción -> Mensaje Cohere -> Respuesta Cohere.\n"
      ],
      "metadata": {
        "id": "AaPHFm_O3YgP"
      },
      "id": "AaPHFm_O3YgP"
    }
  ],
  "metadata": {
    "colab": {
      "provenance": [],
      "gpuType": "T4",
      "include_colab_link": true
    },
    "language_info": {
      "name": "python"
    },
    "kernelspec": {
      "name": "python3",
      "display_name": "Python 3"
    },
    "accelerator": "GPU",
    "widgets": {
      "application/vnd.jupyter.widget-state+json": {
        "f140451952184e73b4f54946bbca0405": {
          "model_module": "@jupyter-widgets/controls",
          "model_name": "HBoxModel",
          "model_module_version": "1.5.0",
          "state": {
            "_dom_classes": [],
            "_model_module": "@jupyter-widgets/controls",
            "_model_module_version": "1.5.0",
            "_model_name": "HBoxModel",
            "_view_count": null,
            "_view_module": "@jupyter-widgets/controls",
            "_view_module_version": "1.5.0",
            "_view_name": "HBoxView",
            "box_style": "",
            "children": [
              "IPY_MODEL_5b90e58db80a44eca270d41220386c71",
              "IPY_MODEL_89d4be55ee6c4aefa450e13d28ddadda",
              "IPY_MODEL_d8269aa281324b869ff1d14299d880a8"
            ],
            "layout": "IPY_MODEL_1b32cd9bbdd2423b8c82fa3dcaae7ba2"
          }
        },
        "5b90e58db80a44eca270d41220386c71": {
          "model_module": "@jupyter-widgets/controls",
          "model_name": "HTMLModel",
          "model_module_version": "1.5.0",
          "state": {
            "_dom_classes": [],
            "_model_module": "@jupyter-widgets/controls",
            "_model_module_version": "1.5.0",
            "_model_name": "HTMLModel",
            "_view_count": null,
            "_view_module": "@jupyter-widgets/controls",
            "_view_module_version": "1.5.0",
            "_view_name": "HTMLView",
            "description": "",
            "description_tooltip": null,
            "layout": "IPY_MODEL_77de47b3c1284df5b51047a24ec6d6d9",
            "placeholder": "​",
            "style": "IPY_MODEL_c2cc635a9d5e4c0db17f328d7b509bad",
            "value": "tokenizer_config.json: 100%"
          }
        },
        "89d4be55ee6c4aefa450e13d28ddadda": {
          "model_module": "@jupyter-widgets/controls",
          "model_name": "FloatProgressModel",
          "model_module_version": "1.5.0",
          "state": {
            "_dom_classes": [],
            "_model_module": "@jupyter-widgets/controls",
            "_model_module_version": "1.5.0",
            "_model_name": "FloatProgressModel",
            "_view_count": null,
            "_view_module": "@jupyter-widgets/controls",
            "_view_module_version": "1.5.0",
            "_view_name": "ProgressView",
            "bar_style": "success",
            "description": "",
            "description_tooltip": null,
            "layout": "IPY_MODEL_310fff3c54f341f6a4687a4a757b546e",
            "max": 1459,
            "min": 0,
            "orientation": "horizontal",
            "style": "IPY_MODEL_fcb1da86360c4bdeb9ea4ab9ad75a735",
            "value": 1459
          }
        },
        "d8269aa281324b869ff1d14299d880a8": {
          "model_module": "@jupyter-widgets/controls",
          "model_name": "HTMLModel",
          "model_module_version": "1.5.0",
          "state": {
            "_dom_classes": [],
            "_model_module": "@jupyter-widgets/controls",
            "_model_module_version": "1.5.0",
            "_model_name": "HTMLModel",
            "_view_count": null,
            "_view_module": "@jupyter-widgets/controls",
            "_view_module_version": "1.5.0",
            "_view_name": "HTMLView",
            "description": "",
            "description_tooltip": null,
            "layout": "IPY_MODEL_647033e828424f4dbb17068270e666ff",
            "placeholder": "​",
            "style": "IPY_MODEL_cc32e11777bb45799681f92f7c7cc821",
            "value": " 1.46k/1.46k [00:00&lt;00:00, 48.7kB/s]"
          }
        },
        "1b32cd9bbdd2423b8c82fa3dcaae7ba2": {
          "model_module": "@jupyter-widgets/base",
          "model_name": "LayoutModel",
          "model_module_version": "1.2.0",
          "state": {
            "_model_module": "@jupyter-widgets/base",
            "_model_module_version": "1.2.0",
            "_model_name": "LayoutModel",
            "_view_count": null,
            "_view_module": "@jupyter-widgets/base",
            "_view_module_version": "1.2.0",
            "_view_name": "LayoutView",
            "align_content": null,
            "align_items": null,
            "align_self": null,
            "border": null,
            "bottom": null,
            "display": null,
            "flex": null,
            "flex_flow": null,
            "grid_area": null,
            "grid_auto_columns": null,
            "grid_auto_flow": null,
            "grid_auto_rows": null,
            "grid_column": null,
            "grid_gap": null,
            "grid_row": null,
            "grid_template_areas": null,
            "grid_template_columns": null,
            "grid_template_rows": null,
            "height": null,
            "justify_content": null,
            "justify_items": null,
            "left": null,
            "margin": null,
            "max_height": null,
            "max_width": null,
            "min_height": null,
            "min_width": null,
            "object_fit": null,
            "object_position": null,
            "order": null,
            "overflow": null,
            "overflow_x": null,
            "overflow_y": null,
            "padding": null,
            "right": null,
            "top": null,
            "visibility": null,
            "width": null
          }
        },
        "77de47b3c1284df5b51047a24ec6d6d9": {
          "model_module": "@jupyter-widgets/base",
          "model_name": "LayoutModel",
          "model_module_version": "1.2.0",
          "state": {
            "_model_module": "@jupyter-widgets/base",
            "_model_module_version": "1.2.0",
            "_model_name": "LayoutModel",
            "_view_count": null,
            "_view_module": "@jupyter-widgets/base",
            "_view_module_version": "1.2.0",
            "_view_name": "LayoutView",
            "align_content": null,
            "align_items": null,
            "align_self": null,
            "border": null,
            "bottom": null,
            "display": null,
            "flex": null,
            "flex_flow": null,
            "grid_area": null,
            "grid_auto_columns": null,
            "grid_auto_flow": null,
            "grid_auto_rows": null,
            "grid_column": null,
            "grid_gap": null,
            "grid_row": null,
            "grid_template_areas": null,
            "grid_template_columns": null,
            "grid_template_rows": null,
            "height": null,
            "justify_content": null,
            "justify_items": null,
            "left": null,
            "margin": null,
            "max_height": null,
            "max_width": null,
            "min_height": null,
            "min_width": null,
            "object_fit": null,
            "object_position": null,
            "order": null,
            "overflow": null,
            "overflow_x": null,
            "overflow_y": null,
            "padding": null,
            "right": null,
            "top": null,
            "visibility": null,
            "width": null
          }
        },
        "c2cc635a9d5e4c0db17f328d7b509bad": {
          "model_module": "@jupyter-widgets/controls",
          "model_name": "DescriptionStyleModel",
          "model_module_version": "1.5.0",
          "state": {
            "_model_module": "@jupyter-widgets/controls",
            "_model_module_version": "1.5.0",
            "_model_name": "DescriptionStyleModel",
            "_view_count": null,
            "_view_module": "@jupyter-widgets/base",
            "_view_module_version": "1.2.0",
            "_view_name": "StyleView",
            "description_width": ""
          }
        },
        "310fff3c54f341f6a4687a4a757b546e": {
          "model_module": "@jupyter-widgets/base",
          "model_name": "LayoutModel",
          "model_module_version": "1.2.0",
          "state": {
            "_model_module": "@jupyter-widgets/base",
            "_model_module_version": "1.2.0",
            "_model_name": "LayoutModel",
            "_view_count": null,
            "_view_module": "@jupyter-widgets/base",
            "_view_module_version": "1.2.0",
            "_view_name": "LayoutView",
            "align_content": null,
            "align_items": null,
            "align_self": null,
            "border": null,
            "bottom": null,
            "display": null,
            "flex": null,
            "flex_flow": null,
            "grid_area": null,
            "grid_auto_columns": null,
            "grid_auto_flow": null,
            "grid_auto_rows": null,
            "grid_column": null,
            "grid_gap": null,
            "grid_row": null,
            "grid_template_areas": null,
            "grid_template_columns": null,
            "grid_template_rows": null,
            "height": null,
            "justify_content": null,
            "justify_items": null,
            "left": null,
            "margin": null,
            "max_height": null,
            "max_width": null,
            "min_height": null,
            "min_width": null,
            "object_fit": null,
            "object_position": null,
            "order": null,
            "overflow": null,
            "overflow_x": null,
            "overflow_y": null,
            "padding": null,
            "right": null,
            "top": null,
            "visibility": null,
            "width": null
          }
        },
        "fcb1da86360c4bdeb9ea4ab9ad75a735": {
          "model_module": "@jupyter-widgets/controls",
          "model_name": "ProgressStyleModel",
          "model_module_version": "1.5.0",
          "state": {
            "_model_module": "@jupyter-widgets/controls",
            "_model_module_version": "1.5.0",
            "_model_name": "ProgressStyleModel",
            "_view_count": null,
            "_view_module": "@jupyter-widgets/base",
            "_view_module_version": "1.2.0",
            "_view_name": "StyleView",
            "bar_color": null,
            "description_width": ""
          }
        },
        "647033e828424f4dbb17068270e666ff": {
          "model_module": "@jupyter-widgets/base",
          "model_name": "LayoutModel",
          "model_module_version": "1.2.0",
          "state": {
            "_model_module": "@jupyter-widgets/base",
            "_model_module_version": "1.2.0",
            "_model_name": "LayoutModel",
            "_view_count": null,
            "_view_module": "@jupyter-widgets/base",
            "_view_module_version": "1.2.0",
            "_view_name": "LayoutView",
            "align_content": null,
            "align_items": null,
            "align_self": null,
            "border": null,
            "bottom": null,
            "display": null,
            "flex": null,
            "flex_flow": null,
            "grid_area": null,
            "grid_auto_columns": null,
            "grid_auto_flow": null,
            "grid_auto_rows": null,
            "grid_column": null,
            "grid_gap": null,
            "grid_row": null,
            "grid_template_areas": null,
            "grid_template_columns": null,
            "grid_template_rows": null,
            "height": null,
            "justify_content": null,
            "justify_items": null,
            "left": null,
            "margin": null,
            "max_height": null,
            "max_width": null,
            "min_height": null,
            "min_width": null,
            "object_fit": null,
            "object_position": null,
            "order": null,
            "overflow": null,
            "overflow_x": null,
            "overflow_y": null,
            "padding": null,
            "right": null,
            "top": null,
            "visibility": null,
            "width": null
          }
        },
        "cc32e11777bb45799681f92f7c7cc821": {
          "model_module": "@jupyter-widgets/controls",
          "model_name": "DescriptionStyleModel",
          "model_module_version": "1.5.0",
          "state": {
            "_model_module": "@jupyter-widgets/controls",
            "_model_module_version": "1.5.0",
            "_model_name": "DescriptionStyleModel",
            "_view_count": null,
            "_view_module": "@jupyter-widgets/base",
            "_view_module_version": "1.2.0",
            "_view_name": "StyleView",
            "description_width": ""
          }
        },
        "9d176106fd5048c0b001f7dcf341e5a1": {
          "model_module": "@jupyter-widgets/controls",
          "model_name": "HBoxModel",
          "model_module_version": "1.5.0",
          "state": {
            "_dom_classes": [],
            "_model_module": "@jupyter-widgets/controls",
            "_model_module_version": "1.5.0",
            "_model_name": "HBoxModel",
            "_view_count": null,
            "_view_module": "@jupyter-widgets/controls",
            "_view_module_version": "1.5.0",
            "_view_name": "HBoxView",
            "box_style": "",
            "children": [
              "IPY_MODEL_8d0bdffea77e4de08559b3029c1c9f2a",
              "IPY_MODEL_d2e9256c04804e24ad9b9d3546a3c7b0",
              "IPY_MODEL_2a1bf028bbb24a129f15e6a38d81c3c8"
            ],
            "layout": "IPY_MODEL_0cfd69fda00249d7a3e2ce1e3a12645e"
          }
        },
        "8d0bdffea77e4de08559b3029c1c9f2a": {
          "model_module": "@jupyter-widgets/controls",
          "model_name": "HTMLModel",
          "model_module_version": "1.5.0",
          "state": {
            "_dom_classes": [],
            "_model_module": "@jupyter-widgets/controls",
            "_model_module_version": "1.5.0",
            "_model_name": "HTMLModel",
            "_view_count": null,
            "_view_module": "@jupyter-widgets/controls",
            "_view_module_version": "1.5.0",
            "_view_name": "HTMLView",
            "description": "",
            "description_tooltip": null,
            "layout": "IPY_MODEL_38e2a0e7c1f44928a425ab35cbf6b652",
            "placeholder": "​",
            "style": "IPY_MODEL_586bf068260749fc9751234c42c82062",
            "value": "config.json: 100%"
          }
        },
        "d2e9256c04804e24ad9b9d3546a3c7b0": {
          "model_module": "@jupyter-widgets/controls",
          "model_name": "FloatProgressModel",
          "model_module_version": "1.5.0",
          "state": {
            "_dom_classes": [],
            "_model_module": "@jupyter-widgets/controls",
            "_model_module_version": "1.5.0",
            "_model_name": "FloatProgressModel",
            "_view_count": null,
            "_view_module": "@jupyter-widgets/controls",
            "_view_module_version": "1.5.0",
            "_view_name": "ProgressView",
            "bar_style": "success",
            "description": "",
            "description_tooltip": null,
            "layout": "IPY_MODEL_92281f8eb4f040d19bf24d3f798fb7a8",
            "max": 613,
            "min": 0,
            "orientation": "horizontal",
            "style": "IPY_MODEL_6b14a290fafb44abb714eb3c57b42a0d",
            "value": 613
          }
        },
        "2a1bf028bbb24a129f15e6a38d81c3c8": {
          "model_module": "@jupyter-widgets/controls",
          "model_name": "HTMLModel",
          "model_module_version": "1.5.0",
          "state": {
            "_dom_classes": [],
            "_model_module": "@jupyter-widgets/controls",
            "_model_module_version": "1.5.0",
            "_model_name": "HTMLModel",
            "_view_count": null,
            "_view_module": "@jupyter-widgets/controls",
            "_view_module_version": "1.5.0",
            "_view_name": "HTMLView",
            "description": "",
            "description_tooltip": null,
            "layout": "IPY_MODEL_883758eae70a4ddcadd882efa501ff33",
            "placeholder": "​",
            "style": "IPY_MODEL_d05e062786b3463ea83ac29ef8a23a97",
            "value": " 613/613 [00:00&lt;00:00, 11.5kB/s]"
          }
        },
        "0cfd69fda00249d7a3e2ce1e3a12645e": {
          "model_module": "@jupyter-widgets/base",
          "model_name": "LayoutModel",
          "model_module_version": "1.2.0",
          "state": {
            "_model_module": "@jupyter-widgets/base",
            "_model_module_version": "1.2.0",
            "_model_name": "LayoutModel",
            "_view_count": null,
            "_view_module": "@jupyter-widgets/base",
            "_view_module_version": "1.2.0",
            "_view_name": "LayoutView",
            "align_content": null,
            "align_items": null,
            "align_self": null,
            "border": null,
            "bottom": null,
            "display": null,
            "flex": null,
            "flex_flow": null,
            "grid_area": null,
            "grid_auto_columns": null,
            "grid_auto_flow": null,
            "grid_auto_rows": null,
            "grid_column": null,
            "grid_gap": null,
            "grid_row": null,
            "grid_template_areas": null,
            "grid_template_columns": null,
            "grid_template_rows": null,
            "height": null,
            "justify_content": null,
            "justify_items": null,
            "left": null,
            "margin": null,
            "max_height": null,
            "max_width": null,
            "min_height": null,
            "min_width": null,
            "object_fit": null,
            "object_position": null,
            "order": null,
            "overflow": null,
            "overflow_x": null,
            "overflow_y": null,
            "padding": null,
            "right": null,
            "top": null,
            "visibility": null,
            "width": null
          }
        },
        "38e2a0e7c1f44928a425ab35cbf6b652": {
          "model_module": "@jupyter-widgets/base",
          "model_name": "LayoutModel",
          "model_module_version": "1.2.0",
          "state": {
            "_model_module": "@jupyter-widgets/base",
            "_model_module_version": "1.2.0",
            "_model_name": "LayoutModel",
            "_view_count": null,
            "_view_module": "@jupyter-widgets/base",
            "_view_module_version": "1.2.0",
            "_view_name": "LayoutView",
            "align_content": null,
            "align_items": null,
            "align_self": null,
            "border": null,
            "bottom": null,
            "display": null,
            "flex": null,
            "flex_flow": null,
            "grid_area": null,
            "grid_auto_columns": null,
            "grid_auto_flow": null,
            "grid_auto_rows": null,
            "grid_column": null,
            "grid_gap": null,
            "grid_row": null,
            "grid_template_areas": null,
            "grid_template_columns": null,
            "grid_template_rows": null,
            "height": null,
            "justify_content": null,
            "justify_items": null,
            "left": null,
            "margin": null,
            "max_height": null,
            "max_width": null,
            "min_height": null,
            "min_width": null,
            "object_fit": null,
            "object_position": null,
            "order": null,
            "overflow": null,
            "overflow_x": null,
            "overflow_y": null,
            "padding": null,
            "right": null,
            "top": null,
            "visibility": null,
            "width": null
          }
        },
        "586bf068260749fc9751234c42c82062": {
          "model_module": "@jupyter-widgets/controls",
          "model_name": "DescriptionStyleModel",
          "model_module_version": "1.5.0",
          "state": {
            "_model_module": "@jupyter-widgets/controls",
            "_model_module_version": "1.5.0",
            "_model_name": "DescriptionStyleModel",
            "_view_count": null,
            "_view_module": "@jupyter-widgets/base",
            "_view_module_version": "1.2.0",
            "_view_name": "StyleView",
            "description_width": ""
          }
        },
        "92281f8eb4f040d19bf24d3f798fb7a8": {
          "model_module": "@jupyter-widgets/base",
          "model_name": "LayoutModel",
          "model_module_version": "1.2.0",
          "state": {
            "_model_module": "@jupyter-widgets/base",
            "_model_module_version": "1.2.0",
            "_model_name": "LayoutModel",
            "_view_count": null,
            "_view_module": "@jupyter-widgets/base",
            "_view_module_version": "1.2.0",
            "_view_name": "LayoutView",
            "align_content": null,
            "align_items": null,
            "align_self": null,
            "border": null,
            "bottom": null,
            "display": null,
            "flex": null,
            "flex_flow": null,
            "grid_area": null,
            "grid_auto_columns": null,
            "grid_auto_flow": null,
            "grid_auto_rows": null,
            "grid_column": null,
            "grid_gap": null,
            "grid_row": null,
            "grid_template_areas": null,
            "grid_template_columns": null,
            "grid_template_rows": null,
            "height": null,
            "justify_content": null,
            "justify_items": null,
            "left": null,
            "margin": null,
            "max_height": null,
            "max_width": null,
            "min_height": null,
            "min_width": null,
            "object_fit": null,
            "object_position": null,
            "order": null,
            "overflow": null,
            "overflow_x": null,
            "overflow_y": null,
            "padding": null,
            "right": null,
            "top": null,
            "visibility": null,
            "width": null
          }
        },
        "6b14a290fafb44abb714eb3c57b42a0d": {
          "model_module": "@jupyter-widgets/controls",
          "model_name": "ProgressStyleModel",
          "model_module_version": "1.5.0",
          "state": {
            "_model_module": "@jupyter-widgets/controls",
            "_model_module_version": "1.5.0",
            "_model_name": "ProgressStyleModel",
            "_view_count": null,
            "_view_module": "@jupyter-widgets/base",
            "_view_module_version": "1.2.0",
            "_view_name": "StyleView",
            "bar_color": null,
            "description_width": ""
          }
        },
        "883758eae70a4ddcadd882efa501ff33": {
          "model_module": "@jupyter-widgets/base",
          "model_name": "LayoutModel",
          "model_module_version": "1.2.0",
          "state": {
            "_model_module": "@jupyter-widgets/base",
            "_model_module_version": "1.2.0",
            "_model_name": "LayoutModel",
            "_view_count": null,
            "_view_module": "@jupyter-widgets/base",
            "_view_module_version": "1.2.0",
            "_view_name": "LayoutView",
            "align_content": null,
            "align_items": null,
            "align_self": null,
            "border": null,
            "bottom": null,
            "display": null,
            "flex": null,
            "flex_flow": null,
            "grid_area": null,
            "grid_auto_columns": null,
            "grid_auto_flow": null,
            "grid_auto_rows": null,
            "grid_column": null,
            "grid_gap": null,
            "grid_row": null,
            "grid_template_areas": null,
            "grid_template_columns": null,
            "grid_template_rows": null,
            "height": null,
            "justify_content": null,
            "justify_items": null,
            "left": null,
            "margin": null,
            "max_height": null,
            "max_width": null,
            "min_height": null,
            "min_width": null,
            "object_fit": null,
            "object_position": null,
            "order": null,
            "overflow": null,
            "overflow_x": null,
            "overflow_y": null,
            "padding": null,
            "right": null,
            "top": null,
            "visibility": null,
            "width": null
          }
        },
        "d05e062786b3463ea83ac29ef8a23a97": {
          "model_module": "@jupyter-widgets/controls",
          "model_name": "DescriptionStyleModel",
          "model_module_version": "1.5.0",
          "state": {
            "_model_module": "@jupyter-widgets/controls",
            "_model_module_version": "1.5.0",
            "_model_name": "DescriptionStyleModel",
            "_view_count": null,
            "_view_module": "@jupyter-widgets/base",
            "_view_module_version": "1.2.0",
            "_view_name": "StyleView",
            "description_width": ""
          }
        },
        "38b77485d28e44c89e3e60797dcd7f70": {
          "model_module": "@jupyter-widgets/controls",
          "model_name": "HBoxModel",
          "model_module_version": "1.5.0",
          "state": {
            "_dom_classes": [],
            "_model_module": "@jupyter-widgets/controls",
            "_model_module_version": "1.5.0",
            "_model_name": "HBoxModel",
            "_view_count": null,
            "_view_module": "@jupyter-widgets/controls",
            "_view_module_version": "1.5.0",
            "_view_name": "HBoxView",
            "box_style": "",
            "children": [
              "IPY_MODEL_d12fb921dade40818c8d72fdaa968860",
              "IPY_MODEL_71482607406e4217b8acd4ae46dcf259",
              "IPY_MODEL_27e4c6ae5407414e923311f08e616842"
            ],
            "layout": "IPY_MODEL_6213f88a0a8c42d483a0803a09e0255c"
          }
        },
        "d12fb921dade40818c8d72fdaa968860": {
          "model_module": "@jupyter-widgets/controls",
          "model_name": "HTMLModel",
          "model_module_version": "1.5.0",
          "state": {
            "_dom_classes": [],
            "_model_module": "@jupyter-widgets/controls",
            "_model_module_version": "1.5.0",
            "_model_name": "HTMLModel",
            "_view_count": null,
            "_view_module": "@jupyter-widgets/controls",
            "_view_module_version": "1.5.0",
            "_view_name": "HTMLView",
            "description": "",
            "description_tooltip": null,
            "layout": "IPY_MODEL_91675b8bce6348af858b3e76c7d5441e",
            "placeholder": "​",
            "style": "IPY_MODEL_23f7928e45684076b18cb2e5b3abd257",
            "value": "vocab.json: 100%"
          }
        },
        "71482607406e4217b8acd4ae46dcf259": {
          "model_module": "@jupyter-widgets/controls",
          "model_name": "FloatProgressModel",
          "model_module_version": "1.5.0",
          "state": {
            "_dom_classes": [],
            "_model_module": "@jupyter-widgets/controls",
            "_model_module_version": "1.5.0",
            "_model_name": "FloatProgressModel",
            "_view_count": null,
            "_view_module": "@jupyter-widgets/controls",
            "_view_module_version": "1.5.0",
            "_view_name": "ProgressView",
            "bar_style": "success",
            "description": "",
            "description_tooltip": null,
            "layout": "IPY_MODEL_77acae6a61464556b1157f439b64ed6c",
            "max": 1152485,
            "min": 0,
            "orientation": "horizontal",
            "style": "IPY_MODEL_9f47055117fd47e98df6298a0e2ff49a",
            "value": 1152485
          }
        },
        "27e4c6ae5407414e923311f08e616842": {
          "model_module": "@jupyter-widgets/controls",
          "model_name": "HTMLModel",
          "model_module_version": "1.5.0",
          "state": {
            "_dom_classes": [],
            "_model_module": "@jupyter-widgets/controls",
            "_model_module_version": "1.5.0",
            "_model_name": "HTMLModel",
            "_view_count": null,
            "_view_module": "@jupyter-widgets/controls",
            "_view_module_version": "1.5.0",
            "_view_name": "HTMLView",
            "description": "",
            "description_tooltip": null,
            "layout": "IPY_MODEL_fd74e0d185f04ddeb63645fbeab98451",
            "placeholder": "​",
            "style": "IPY_MODEL_4484fcdd74ac42ff89b5880b72a36021",
            "value": " 1.15M/1.15M [00:00&lt;00:00, 4.64MB/s]"
          }
        },
        "6213f88a0a8c42d483a0803a09e0255c": {
          "model_module": "@jupyter-widgets/base",
          "model_name": "LayoutModel",
          "model_module_version": "1.2.0",
          "state": {
            "_model_module": "@jupyter-widgets/base",
            "_model_module_version": "1.2.0",
            "_model_name": "LayoutModel",
            "_view_count": null,
            "_view_module": "@jupyter-widgets/base",
            "_view_module_version": "1.2.0",
            "_view_name": "LayoutView",
            "align_content": null,
            "align_items": null,
            "align_self": null,
            "border": null,
            "bottom": null,
            "display": null,
            "flex": null,
            "flex_flow": null,
            "grid_area": null,
            "grid_auto_columns": null,
            "grid_auto_flow": null,
            "grid_auto_rows": null,
            "grid_column": null,
            "grid_gap": null,
            "grid_row": null,
            "grid_template_areas": null,
            "grid_template_columns": null,
            "grid_template_rows": null,
            "height": null,
            "justify_content": null,
            "justify_items": null,
            "left": null,
            "margin": null,
            "max_height": null,
            "max_width": null,
            "min_height": null,
            "min_width": null,
            "object_fit": null,
            "object_position": null,
            "order": null,
            "overflow": null,
            "overflow_x": null,
            "overflow_y": null,
            "padding": null,
            "right": null,
            "top": null,
            "visibility": null,
            "width": null
          }
        },
        "91675b8bce6348af858b3e76c7d5441e": {
          "model_module": "@jupyter-widgets/base",
          "model_name": "LayoutModel",
          "model_module_version": "1.2.0",
          "state": {
            "_model_module": "@jupyter-widgets/base",
            "_model_module_version": "1.2.0",
            "_model_name": "LayoutModel",
            "_view_count": null,
            "_view_module": "@jupyter-widgets/base",
            "_view_module_version": "1.2.0",
            "_view_name": "LayoutView",
            "align_content": null,
            "align_items": null,
            "align_self": null,
            "border": null,
            "bottom": null,
            "display": null,
            "flex": null,
            "flex_flow": null,
            "grid_area": null,
            "grid_auto_columns": null,
            "grid_auto_flow": null,
            "grid_auto_rows": null,
            "grid_column": null,
            "grid_gap": null,
            "grid_row": null,
            "grid_template_areas": null,
            "grid_template_columns": null,
            "grid_template_rows": null,
            "height": null,
            "justify_content": null,
            "justify_items": null,
            "left": null,
            "margin": null,
            "max_height": null,
            "max_width": null,
            "min_height": null,
            "min_width": null,
            "object_fit": null,
            "object_position": null,
            "order": null,
            "overflow": null,
            "overflow_x": null,
            "overflow_y": null,
            "padding": null,
            "right": null,
            "top": null,
            "visibility": null,
            "width": null
          }
        },
        "23f7928e45684076b18cb2e5b3abd257": {
          "model_module": "@jupyter-widgets/controls",
          "model_name": "DescriptionStyleModel",
          "model_module_version": "1.5.0",
          "state": {
            "_model_module": "@jupyter-widgets/controls",
            "_model_module_version": "1.5.0",
            "_model_name": "DescriptionStyleModel",
            "_view_count": null,
            "_view_module": "@jupyter-widgets/base",
            "_view_module_version": "1.2.0",
            "_view_name": "StyleView",
            "description_width": ""
          }
        },
        "77acae6a61464556b1157f439b64ed6c": {
          "model_module": "@jupyter-widgets/base",
          "model_name": "LayoutModel",
          "model_module_version": "1.2.0",
          "state": {
            "_model_module": "@jupyter-widgets/base",
            "_model_module_version": "1.2.0",
            "_model_name": "LayoutModel",
            "_view_count": null,
            "_view_module": "@jupyter-widgets/base",
            "_view_module_version": "1.2.0",
            "_view_name": "LayoutView",
            "align_content": null,
            "align_items": null,
            "align_self": null,
            "border": null,
            "bottom": null,
            "display": null,
            "flex": null,
            "flex_flow": null,
            "grid_area": null,
            "grid_auto_columns": null,
            "grid_auto_flow": null,
            "grid_auto_rows": null,
            "grid_column": null,
            "grid_gap": null,
            "grid_row": null,
            "grid_template_areas": null,
            "grid_template_columns": null,
            "grid_template_rows": null,
            "height": null,
            "justify_content": null,
            "justify_items": null,
            "left": null,
            "margin": null,
            "max_height": null,
            "max_width": null,
            "min_height": null,
            "min_width": null,
            "object_fit": null,
            "object_position": null,
            "order": null,
            "overflow": null,
            "overflow_x": null,
            "overflow_y": null,
            "padding": null,
            "right": null,
            "top": null,
            "visibility": null,
            "width": null
          }
        },
        "9f47055117fd47e98df6298a0e2ff49a": {
          "model_module": "@jupyter-widgets/controls",
          "model_name": "ProgressStyleModel",
          "model_module_version": "1.5.0",
          "state": {
            "_model_module": "@jupyter-widgets/controls",
            "_model_module_version": "1.5.0",
            "_model_name": "ProgressStyleModel",
            "_view_count": null,
            "_view_module": "@jupyter-widgets/base",
            "_view_module_version": "1.2.0",
            "_view_name": "StyleView",
            "bar_color": null,
            "description_width": ""
          }
        },
        "fd74e0d185f04ddeb63645fbeab98451": {
          "model_module": "@jupyter-widgets/base",
          "model_name": "LayoutModel",
          "model_module_version": "1.2.0",
          "state": {
            "_model_module": "@jupyter-widgets/base",
            "_model_module_version": "1.2.0",
            "_model_name": "LayoutModel",
            "_view_count": null,
            "_view_module": "@jupyter-widgets/base",
            "_view_module_version": "1.2.0",
            "_view_name": "LayoutView",
            "align_content": null,
            "align_items": null,
            "align_self": null,
            "border": null,
            "bottom": null,
            "display": null,
            "flex": null,
            "flex_flow": null,
            "grid_area": null,
            "grid_auto_columns": null,
            "grid_auto_flow": null,
            "grid_auto_rows": null,
            "grid_column": null,
            "grid_gap": null,
            "grid_row": null,
            "grid_template_areas": null,
            "grid_template_columns": null,
            "grid_template_rows": null,
            "height": null,
            "justify_content": null,
            "justify_items": null,
            "left": null,
            "margin": null,
            "max_height": null,
            "max_width": null,
            "min_height": null,
            "min_width": null,
            "object_fit": null,
            "object_position": null,
            "order": null,
            "overflow": null,
            "overflow_x": null,
            "overflow_y": null,
            "padding": null,
            "right": null,
            "top": null,
            "visibility": null,
            "width": null
          }
        },
        "4484fcdd74ac42ff89b5880b72a36021": {
          "model_module": "@jupyter-widgets/controls",
          "model_name": "DescriptionStyleModel",
          "model_module_version": "1.5.0",
          "state": {
            "_model_module": "@jupyter-widgets/controls",
            "_model_module_version": "1.5.0",
            "_model_name": "DescriptionStyleModel",
            "_view_count": null,
            "_view_module": "@jupyter-widgets/base",
            "_view_module_version": "1.2.0",
            "_view_name": "StyleView",
            "description_width": ""
          }
        },
        "f080fa001585402cae8c1108e18e8a61": {
          "model_module": "@jupyter-widgets/controls",
          "model_name": "HBoxModel",
          "model_module_version": "1.5.0",
          "state": {
            "_dom_classes": [],
            "_model_module": "@jupyter-widgets/controls",
            "_model_module_version": "1.5.0",
            "_model_name": "HBoxModel",
            "_view_count": null,
            "_view_module": "@jupyter-widgets/controls",
            "_view_module_version": "1.5.0",
            "_view_name": "HBoxView",
            "box_style": "",
            "children": [
              "IPY_MODEL_eb3728c74a80463cb7e57e3a4199858f",
              "IPY_MODEL_bc5df39733dd4669b51ee680675d31f4",
              "IPY_MODEL_7cbdfd82615c49f3bc986e9d9fc2519a"
            ],
            "layout": "IPY_MODEL_e77e11a954e2492189e68ca13d91287b"
          }
        },
        "eb3728c74a80463cb7e57e3a4199858f": {
          "model_module": "@jupyter-widgets/controls",
          "model_name": "HTMLModel",
          "model_module_version": "1.5.0",
          "state": {
            "_dom_classes": [],
            "_model_module": "@jupyter-widgets/controls",
            "_model_module_version": "1.5.0",
            "_model_name": "HTMLModel",
            "_view_count": null,
            "_view_module": "@jupyter-widgets/controls",
            "_view_module_version": "1.5.0",
            "_view_name": "HTMLView",
            "description": "",
            "description_tooltip": null,
            "layout": "IPY_MODEL_c8214d16f3d84bca9706337830ec420a",
            "placeholder": "​",
            "style": "IPY_MODEL_bd878b03cc964b3da398eb1556b0c91c",
            "value": "merges.txt: 100%"
          }
        },
        "bc5df39733dd4669b51ee680675d31f4": {
          "model_module": "@jupyter-widgets/controls",
          "model_name": "FloatProgressModel",
          "model_module_version": "1.5.0",
          "state": {
            "_dom_classes": [],
            "_model_module": "@jupyter-widgets/controls",
            "_model_module_version": "1.5.0",
            "_model_name": "FloatProgressModel",
            "_view_count": null,
            "_view_module": "@jupyter-widgets/controls",
            "_view_module_version": "1.5.0",
            "_view_name": "ProgressView",
            "bar_style": "success",
            "description": "",
            "description_tooltip": null,
            "layout": "IPY_MODEL_fb70bd145acd41399c1d62ec48638df9",
            "max": 508942,
            "min": 0,
            "orientation": "horizontal",
            "style": "IPY_MODEL_8e41e5eeb5d5403a934632604e78eddf",
            "value": 508942
          }
        },
        "7cbdfd82615c49f3bc986e9d9fc2519a": {
          "model_module": "@jupyter-widgets/controls",
          "model_name": "HTMLModel",
          "model_module_version": "1.5.0",
          "state": {
            "_dom_classes": [],
            "_model_module": "@jupyter-widgets/controls",
            "_model_module_version": "1.5.0",
            "_model_name": "HTMLModel",
            "_view_count": null,
            "_view_module": "@jupyter-widgets/controls",
            "_view_module_version": "1.5.0",
            "_view_name": "HTMLView",
            "description": "",
            "description_tooltip": null,
            "layout": "IPY_MODEL_1089932fce9a41c6ac8fead22a5bd65b",
            "placeholder": "​",
            "style": "IPY_MODEL_dced76f044124ce69d43eb7a107e98f7",
            "value": " 509k/509k [00:00&lt;00:00, 6.09MB/s]"
          }
        },
        "e77e11a954e2492189e68ca13d91287b": {
          "model_module": "@jupyter-widgets/base",
          "model_name": "LayoutModel",
          "model_module_version": "1.2.0",
          "state": {
            "_model_module": "@jupyter-widgets/base",
            "_model_module_version": "1.2.0",
            "_model_name": "LayoutModel",
            "_view_count": null,
            "_view_module": "@jupyter-widgets/base",
            "_view_module_version": "1.2.0",
            "_view_name": "LayoutView",
            "align_content": null,
            "align_items": null,
            "align_self": null,
            "border": null,
            "bottom": null,
            "display": null,
            "flex": null,
            "flex_flow": null,
            "grid_area": null,
            "grid_auto_columns": null,
            "grid_auto_flow": null,
            "grid_auto_rows": null,
            "grid_column": null,
            "grid_gap": null,
            "grid_row": null,
            "grid_template_areas": null,
            "grid_template_columns": null,
            "grid_template_rows": null,
            "height": null,
            "justify_content": null,
            "justify_items": null,
            "left": null,
            "margin": null,
            "max_height": null,
            "max_width": null,
            "min_height": null,
            "min_width": null,
            "object_fit": null,
            "object_position": null,
            "order": null,
            "overflow": null,
            "overflow_x": null,
            "overflow_y": null,
            "padding": null,
            "right": null,
            "top": null,
            "visibility": null,
            "width": null
          }
        },
        "c8214d16f3d84bca9706337830ec420a": {
          "model_module": "@jupyter-widgets/base",
          "model_name": "LayoutModel",
          "model_module_version": "1.2.0",
          "state": {
            "_model_module": "@jupyter-widgets/base",
            "_model_module_version": "1.2.0",
            "_model_name": "LayoutModel",
            "_view_count": null,
            "_view_module": "@jupyter-widgets/base",
            "_view_module_version": "1.2.0",
            "_view_name": "LayoutView",
            "align_content": null,
            "align_items": null,
            "align_self": null,
            "border": null,
            "bottom": null,
            "display": null,
            "flex": null,
            "flex_flow": null,
            "grid_area": null,
            "grid_auto_columns": null,
            "grid_auto_flow": null,
            "grid_auto_rows": null,
            "grid_column": null,
            "grid_gap": null,
            "grid_row": null,
            "grid_template_areas": null,
            "grid_template_columns": null,
            "grid_template_rows": null,
            "height": null,
            "justify_content": null,
            "justify_items": null,
            "left": null,
            "margin": null,
            "max_height": null,
            "max_width": null,
            "min_height": null,
            "min_width": null,
            "object_fit": null,
            "object_position": null,
            "order": null,
            "overflow": null,
            "overflow_x": null,
            "overflow_y": null,
            "padding": null,
            "right": null,
            "top": null,
            "visibility": null,
            "width": null
          }
        },
        "bd878b03cc964b3da398eb1556b0c91c": {
          "model_module": "@jupyter-widgets/controls",
          "model_name": "DescriptionStyleModel",
          "model_module_version": "1.5.0",
          "state": {
            "_model_module": "@jupyter-widgets/controls",
            "_model_module_version": "1.5.0",
            "_model_name": "DescriptionStyleModel",
            "_view_count": null,
            "_view_module": "@jupyter-widgets/base",
            "_view_module_version": "1.2.0",
            "_view_name": "StyleView",
            "description_width": ""
          }
        },
        "fb70bd145acd41399c1d62ec48638df9": {
          "model_module": "@jupyter-widgets/base",
          "model_name": "LayoutModel",
          "model_module_version": "1.2.0",
          "state": {
            "_model_module": "@jupyter-widgets/base",
            "_model_module_version": "1.2.0",
            "_model_name": "LayoutModel",
            "_view_count": null,
            "_view_module": "@jupyter-widgets/base",
            "_view_module_version": "1.2.0",
            "_view_name": "LayoutView",
            "align_content": null,
            "align_items": null,
            "align_self": null,
            "border": null,
            "bottom": null,
            "display": null,
            "flex": null,
            "flex_flow": null,
            "grid_area": null,
            "grid_auto_columns": null,
            "grid_auto_flow": null,
            "grid_auto_rows": null,
            "grid_column": null,
            "grid_gap": null,
            "grid_row": null,
            "grid_template_areas": null,
            "grid_template_columns": null,
            "grid_template_rows": null,
            "height": null,
            "justify_content": null,
            "justify_items": null,
            "left": null,
            "margin": null,
            "max_height": null,
            "max_width": null,
            "min_height": null,
            "min_width": null,
            "object_fit": null,
            "object_position": null,
            "order": null,
            "overflow": null,
            "overflow_x": null,
            "overflow_y": null,
            "padding": null,
            "right": null,
            "top": null,
            "visibility": null,
            "width": null
          }
        },
        "8e41e5eeb5d5403a934632604e78eddf": {
          "model_module": "@jupyter-widgets/controls",
          "model_name": "ProgressStyleModel",
          "model_module_version": "1.5.0",
          "state": {
            "_model_module": "@jupyter-widgets/controls",
            "_model_module_version": "1.5.0",
            "_model_name": "ProgressStyleModel",
            "_view_count": null,
            "_view_module": "@jupyter-widgets/base",
            "_view_module_version": "1.2.0",
            "_view_name": "StyleView",
            "bar_color": null,
            "description_width": ""
          }
        },
        "1089932fce9a41c6ac8fead22a5bd65b": {
          "model_module": "@jupyter-widgets/base",
          "model_name": "LayoutModel",
          "model_module_version": "1.2.0",
          "state": {
            "_model_module": "@jupyter-widgets/base",
            "_model_module_version": "1.2.0",
            "_model_name": "LayoutModel",
            "_view_count": null,
            "_view_module": "@jupyter-widgets/base",
            "_view_module_version": "1.2.0",
            "_view_name": "LayoutView",
            "align_content": null,
            "align_items": null,
            "align_self": null,
            "border": null,
            "bottom": null,
            "display": null,
            "flex": null,
            "flex_flow": null,
            "grid_area": null,
            "grid_auto_columns": null,
            "grid_auto_flow": null,
            "grid_auto_rows": null,
            "grid_column": null,
            "grid_gap": null,
            "grid_row": null,
            "grid_template_areas": null,
            "grid_template_columns": null,
            "grid_template_rows": null,
            "height": null,
            "justify_content": null,
            "justify_items": null,
            "left": null,
            "margin": null,
            "max_height": null,
            "max_width": null,
            "min_height": null,
            "min_width": null,
            "object_fit": null,
            "object_position": null,
            "order": null,
            "overflow": null,
            "overflow_x": null,
            "overflow_y": null,
            "padding": null,
            "right": null,
            "top": null,
            "visibility": null,
            "width": null
          }
        },
        "dced76f044124ce69d43eb7a107e98f7": {
          "model_module": "@jupyter-widgets/controls",
          "model_name": "DescriptionStyleModel",
          "model_module_version": "1.5.0",
          "state": {
            "_model_module": "@jupyter-widgets/controls",
            "_model_module_version": "1.5.0",
            "_model_name": "DescriptionStyleModel",
            "_view_count": null,
            "_view_module": "@jupyter-widgets/base",
            "_view_module_version": "1.2.0",
            "_view_name": "StyleView",
            "description_width": ""
          }
        },
        "e2d3d3bd4da2460cb9670216b17760e2": {
          "model_module": "@jupyter-widgets/controls",
          "model_name": "HBoxModel",
          "model_module_version": "1.5.0",
          "state": {
            "_dom_classes": [],
            "_model_module": "@jupyter-widgets/controls",
            "_model_module_version": "1.5.0",
            "_model_name": "HBoxModel",
            "_view_count": null,
            "_view_module": "@jupyter-widgets/controls",
            "_view_module_version": "1.5.0",
            "_view_name": "HBoxView",
            "box_style": "",
            "children": [
              "IPY_MODEL_0b98e29af64e49d18013187ddc4b902f",
              "IPY_MODEL_9988874077744f45b4fc03ea62b106a5",
              "IPY_MODEL_6764209f4e4f4868b04d03649cc686c8"
            ],
            "layout": "IPY_MODEL_c92e8b30d61a4437b0b5b6b5a685aef1"
          }
        },
        "0b98e29af64e49d18013187ddc4b902f": {
          "model_module": "@jupyter-widgets/controls",
          "model_name": "HTMLModel",
          "model_module_version": "1.5.0",
          "state": {
            "_dom_classes": [],
            "_model_module": "@jupyter-widgets/controls",
            "_model_module_version": "1.5.0",
            "_model_name": "HTMLModel",
            "_view_count": null,
            "_view_module": "@jupyter-widgets/controls",
            "_view_module_version": "1.5.0",
            "_view_name": "HTMLView",
            "description": "",
            "description_tooltip": null,
            "layout": "IPY_MODEL_f779f7c98c494176bbff976f9c14b77e",
            "placeholder": "​",
            "style": "IPY_MODEL_0a014f6b83a04cffbd17c90712fb3992",
            "value": "tokenizer.json: 100%"
          }
        },
        "9988874077744f45b4fc03ea62b106a5": {
          "model_module": "@jupyter-widgets/controls",
          "model_name": "FloatProgressModel",
          "model_module_version": "1.5.0",
          "state": {
            "_dom_classes": [],
            "_model_module": "@jupyter-widgets/controls",
            "_model_module_version": "1.5.0",
            "_model_name": "FloatProgressModel",
            "_view_count": null,
            "_view_module": "@jupyter-widgets/controls",
            "_view_module_version": "1.5.0",
            "_view_name": "ProgressView",
            "bar_style": "success",
            "description": "",
            "description_tooltip": null,
            "layout": "IPY_MODEL_4181dc82e38244299f9818e6851bceb9",
            "max": 1461212,
            "min": 0,
            "orientation": "horizontal",
            "style": "IPY_MODEL_1c5fd7aa47c64186b9f54e753c75fc09",
            "value": 1461212
          }
        },
        "6764209f4e4f4868b04d03649cc686c8": {
          "model_module": "@jupyter-widgets/controls",
          "model_name": "HTMLModel",
          "model_module_version": "1.5.0",
          "state": {
            "_dom_classes": [],
            "_model_module": "@jupyter-widgets/controls",
            "_model_module_version": "1.5.0",
            "_model_name": "HTMLModel",
            "_view_count": null,
            "_view_module": "@jupyter-widgets/controls",
            "_view_module_version": "1.5.0",
            "_view_name": "HTMLView",
            "description": "",
            "description_tooltip": null,
            "layout": "IPY_MODEL_beb9a4ca70cd4b8a9747022ed1fbe163",
            "placeholder": "​",
            "style": "IPY_MODEL_0b678777186549968270f29827c89bc2",
            "value": " 1.46M/1.46M [00:00&lt;00:00, 4.44MB/s]"
          }
        },
        "c92e8b30d61a4437b0b5b6b5a685aef1": {
          "model_module": "@jupyter-widgets/base",
          "model_name": "LayoutModel",
          "model_module_version": "1.2.0",
          "state": {
            "_model_module": "@jupyter-widgets/base",
            "_model_module_version": "1.2.0",
            "_model_name": "LayoutModel",
            "_view_count": null,
            "_view_module": "@jupyter-widgets/base",
            "_view_module_version": "1.2.0",
            "_view_name": "LayoutView",
            "align_content": null,
            "align_items": null,
            "align_self": null,
            "border": null,
            "bottom": null,
            "display": null,
            "flex": null,
            "flex_flow": null,
            "grid_area": null,
            "grid_auto_columns": null,
            "grid_auto_flow": null,
            "grid_auto_rows": null,
            "grid_column": null,
            "grid_gap": null,
            "grid_row": null,
            "grid_template_areas": null,
            "grid_template_columns": null,
            "grid_template_rows": null,
            "height": null,
            "justify_content": null,
            "justify_items": null,
            "left": null,
            "margin": null,
            "max_height": null,
            "max_width": null,
            "min_height": null,
            "min_width": null,
            "object_fit": null,
            "object_position": null,
            "order": null,
            "overflow": null,
            "overflow_x": null,
            "overflow_y": null,
            "padding": null,
            "right": null,
            "top": null,
            "visibility": null,
            "width": null
          }
        },
        "f779f7c98c494176bbff976f9c14b77e": {
          "model_module": "@jupyter-widgets/base",
          "model_name": "LayoutModel",
          "model_module_version": "1.2.0",
          "state": {
            "_model_module": "@jupyter-widgets/base",
            "_model_module_version": "1.2.0",
            "_model_name": "LayoutModel",
            "_view_count": null,
            "_view_module": "@jupyter-widgets/base",
            "_view_module_version": "1.2.0",
            "_view_name": "LayoutView",
            "align_content": null,
            "align_items": null,
            "align_self": null,
            "border": null,
            "bottom": null,
            "display": null,
            "flex": null,
            "flex_flow": null,
            "grid_area": null,
            "grid_auto_columns": null,
            "grid_auto_flow": null,
            "grid_auto_rows": null,
            "grid_column": null,
            "grid_gap": null,
            "grid_row": null,
            "grid_template_areas": null,
            "grid_template_columns": null,
            "grid_template_rows": null,
            "height": null,
            "justify_content": null,
            "justify_items": null,
            "left": null,
            "margin": null,
            "max_height": null,
            "max_width": null,
            "min_height": null,
            "min_width": null,
            "object_fit": null,
            "object_position": null,
            "order": null,
            "overflow": null,
            "overflow_x": null,
            "overflow_y": null,
            "padding": null,
            "right": null,
            "top": null,
            "visibility": null,
            "width": null
          }
        },
        "0a014f6b83a04cffbd17c90712fb3992": {
          "model_module": "@jupyter-widgets/controls",
          "model_name": "DescriptionStyleModel",
          "model_module_version": "1.5.0",
          "state": {
            "_model_module": "@jupyter-widgets/controls",
            "_model_module_version": "1.5.0",
            "_model_name": "DescriptionStyleModel",
            "_view_count": null,
            "_view_module": "@jupyter-widgets/base",
            "_view_module_version": "1.2.0",
            "_view_name": "StyleView",
            "description_width": ""
          }
        },
        "4181dc82e38244299f9818e6851bceb9": {
          "model_module": "@jupyter-widgets/base",
          "model_name": "LayoutModel",
          "model_module_version": "1.2.0",
          "state": {
            "_model_module": "@jupyter-widgets/base",
            "_model_module_version": "1.2.0",
            "_model_name": "LayoutModel",
            "_view_count": null,
            "_view_module": "@jupyter-widgets/base",
            "_view_module_version": "1.2.0",
            "_view_name": "LayoutView",
            "align_content": null,
            "align_items": null,
            "align_self": null,
            "border": null,
            "bottom": null,
            "display": null,
            "flex": null,
            "flex_flow": null,
            "grid_area": null,
            "grid_auto_columns": null,
            "grid_auto_flow": null,
            "grid_auto_rows": null,
            "grid_column": null,
            "grid_gap": null,
            "grid_row": null,
            "grid_template_areas": null,
            "grid_template_columns": null,
            "grid_template_rows": null,
            "height": null,
            "justify_content": null,
            "justify_items": null,
            "left": null,
            "margin": null,
            "max_height": null,
            "max_width": null,
            "min_height": null,
            "min_width": null,
            "object_fit": null,
            "object_position": null,
            "order": null,
            "overflow": null,
            "overflow_x": null,
            "overflow_y": null,
            "padding": null,
            "right": null,
            "top": null,
            "visibility": null,
            "width": null
          }
        },
        "1c5fd7aa47c64186b9f54e753c75fc09": {
          "model_module": "@jupyter-widgets/controls",
          "model_name": "ProgressStyleModel",
          "model_module_version": "1.5.0",
          "state": {
            "_model_module": "@jupyter-widgets/controls",
            "_model_module_version": "1.5.0",
            "_model_name": "ProgressStyleModel",
            "_view_count": null,
            "_view_module": "@jupyter-widgets/base",
            "_view_module_version": "1.2.0",
            "_view_name": "StyleView",
            "bar_color": null,
            "description_width": ""
          }
        },
        "beb9a4ca70cd4b8a9747022ed1fbe163": {
          "model_module": "@jupyter-widgets/base",
          "model_name": "LayoutModel",
          "model_module_version": "1.2.0",
          "state": {
            "_model_module": "@jupyter-widgets/base",
            "_model_module_version": "1.2.0",
            "_model_name": "LayoutModel",
            "_view_count": null,
            "_view_module": "@jupyter-widgets/base",
            "_view_module_version": "1.2.0",
            "_view_name": "LayoutView",
            "align_content": null,
            "align_items": null,
            "align_self": null,
            "border": null,
            "bottom": null,
            "display": null,
            "flex": null,
            "flex_flow": null,
            "grid_area": null,
            "grid_auto_columns": null,
            "grid_auto_flow": null,
            "grid_auto_rows": null,
            "grid_column": null,
            "grid_gap": null,
            "grid_row": null,
            "grid_template_areas": null,
            "grid_template_columns": null,
            "grid_template_rows": null,
            "height": null,
            "justify_content": null,
            "justify_items": null,
            "left": null,
            "margin": null,
            "max_height": null,
            "max_width": null,
            "min_height": null,
            "min_width": null,
            "object_fit": null,
            "object_position": null,
            "order": null,
            "overflow": null,
            "overflow_x": null,
            "overflow_y": null,
            "padding": null,
            "right": null,
            "top": null,
            "visibility": null,
            "width": null
          }
        },
        "0b678777186549968270f29827c89bc2": {
          "model_module": "@jupyter-widgets/controls",
          "model_name": "DescriptionStyleModel",
          "model_module_version": "1.5.0",
          "state": {
            "_model_module": "@jupyter-widgets/controls",
            "_model_module_version": "1.5.0",
            "_model_name": "DescriptionStyleModel",
            "_view_count": null,
            "_view_module": "@jupyter-widgets/base",
            "_view_module_version": "1.2.0",
            "_view_name": "StyleView",
            "description_width": ""
          }
        },
        "22fceda4e06c44e3af17bcc1d424052e": {
          "model_module": "@jupyter-widgets/controls",
          "model_name": "HBoxModel",
          "model_module_version": "1.5.0",
          "state": {
            "_dom_classes": [],
            "_model_module": "@jupyter-widgets/controls",
            "_model_module_version": "1.5.0",
            "_model_name": "HBoxModel",
            "_view_count": null,
            "_view_module": "@jupyter-widgets/controls",
            "_view_module_version": "1.5.0",
            "_view_name": "HBoxView",
            "box_style": "",
            "children": [
              "IPY_MODEL_3932e1de174243eda630ab732ee22ba3",
              "IPY_MODEL_91f22e8c7c6d4b948e26ed6d3a50fe09",
              "IPY_MODEL_604013ece0374b36bd425e2f9b5d315a"
            ],
            "layout": "IPY_MODEL_ab8486b2e9944e23986cc4696336fb0c"
          }
        },
        "3932e1de174243eda630ab732ee22ba3": {
          "model_module": "@jupyter-widgets/controls",
          "model_name": "HTMLModel",
          "model_module_version": "1.5.0",
          "state": {
            "_dom_classes": [],
            "_model_module": "@jupyter-widgets/controls",
            "_model_module_version": "1.5.0",
            "_model_name": "HTMLModel",
            "_view_count": null,
            "_view_module": "@jupyter-widgets/controls",
            "_view_module_version": "1.5.0",
            "_view_name": "HTMLView",
            "description": "",
            "description_tooltip": null,
            "layout": "IPY_MODEL_dad53461dba0440b92ee9534e801881c",
            "placeholder": "​",
            "style": "IPY_MODEL_91d1faae3256464187aa3a1ee1f43f9c",
            "value": "special_tokens_map.json: 100%"
          }
        },
        "91f22e8c7c6d4b948e26ed6d3a50fe09": {
          "model_module": "@jupyter-widgets/controls",
          "model_name": "FloatProgressModel",
          "model_module_version": "1.5.0",
          "state": {
            "_dom_classes": [],
            "_model_module": "@jupyter-widgets/controls",
            "_model_module_version": "1.5.0",
            "_model_name": "FloatProgressModel",
            "_view_count": null,
            "_view_module": "@jupyter-widgets/controls",
            "_view_module_version": "1.5.0",
            "_view_name": "ProgressView",
            "bar_style": "success",
            "description": "",
            "description_tooltip": null,
            "layout": "IPY_MODEL_49cf50a8688f49f4a30cf0c6e47be828",
            "max": 772,
            "min": 0,
            "orientation": "horizontal",
            "style": "IPY_MODEL_4c5483b51d204455bf1408d58efb0565",
            "value": 772
          }
        },
        "604013ece0374b36bd425e2f9b5d315a": {
          "model_module": "@jupyter-widgets/controls",
          "model_name": "HTMLModel",
          "model_module_version": "1.5.0",
          "state": {
            "_dom_classes": [],
            "_model_module": "@jupyter-widgets/controls",
            "_model_module_version": "1.5.0",
            "_model_name": "HTMLModel",
            "_view_count": null,
            "_view_module": "@jupyter-widgets/controls",
            "_view_module_version": "1.5.0",
            "_view_name": "HTMLView",
            "description": "",
            "description_tooltip": null,
            "layout": "IPY_MODEL_d418f33994c44aed91fbbbd5920e065a",
            "placeholder": "​",
            "style": "IPY_MODEL_e75bf864b0b44590b809b3423eaaf3fc",
            "value": " 772/772 [00:00&lt;00:00, 24.0kB/s]"
          }
        },
        "ab8486b2e9944e23986cc4696336fb0c": {
          "model_module": "@jupyter-widgets/base",
          "model_name": "LayoutModel",
          "model_module_version": "1.2.0",
          "state": {
            "_model_module": "@jupyter-widgets/base",
            "_model_module_version": "1.2.0",
            "_model_name": "LayoutModel",
            "_view_count": null,
            "_view_module": "@jupyter-widgets/base",
            "_view_module_version": "1.2.0",
            "_view_name": "LayoutView",
            "align_content": null,
            "align_items": null,
            "align_self": null,
            "border": null,
            "bottom": null,
            "display": null,
            "flex": null,
            "flex_flow": null,
            "grid_area": null,
            "grid_auto_columns": null,
            "grid_auto_flow": null,
            "grid_auto_rows": null,
            "grid_column": null,
            "grid_gap": null,
            "grid_row": null,
            "grid_template_areas": null,
            "grid_template_columns": null,
            "grid_template_rows": null,
            "height": null,
            "justify_content": null,
            "justify_items": null,
            "left": null,
            "margin": null,
            "max_height": null,
            "max_width": null,
            "min_height": null,
            "min_width": null,
            "object_fit": null,
            "object_position": null,
            "order": null,
            "overflow": null,
            "overflow_x": null,
            "overflow_y": null,
            "padding": null,
            "right": null,
            "top": null,
            "visibility": null,
            "width": null
          }
        },
        "dad53461dba0440b92ee9534e801881c": {
          "model_module": "@jupyter-widgets/base",
          "model_name": "LayoutModel",
          "model_module_version": "1.2.0",
          "state": {
            "_model_module": "@jupyter-widgets/base",
            "_model_module_version": "1.2.0",
            "_model_name": "LayoutModel",
            "_view_count": null,
            "_view_module": "@jupyter-widgets/base",
            "_view_module_version": "1.2.0",
            "_view_name": "LayoutView",
            "align_content": null,
            "align_items": null,
            "align_self": null,
            "border": null,
            "bottom": null,
            "display": null,
            "flex": null,
            "flex_flow": null,
            "grid_area": null,
            "grid_auto_columns": null,
            "grid_auto_flow": null,
            "grid_auto_rows": null,
            "grid_column": null,
            "grid_gap": null,
            "grid_row": null,
            "grid_template_areas": null,
            "grid_template_columns": null,
            "grid_template_rows": null,
            "height": null,
            "justify_content": null,
            "justify_items": null,
            "left": null,
            "margin": null,
            "max_height": null,
            "max_width": null,
            "min_height": null,
            "min_width": null,
            "object_fit": null,
            "object_position": null,
            "order": null,
            "overflow": null,
            "overflow_x": null,
            "overflow_y": null,
            "padding": null,
            "right": null,
            "top": null,
            "visibility": null,
            "width": null
          }
        },
        "91d1faae3256464187aa3a1ee1f43f9c": {
          "model_module": "@jupyter-widgets/controls",
          "model_name": "DescriptionStyleModel",
          "model_module_version": "1.5.0",
          "state": {
            "_model_module": "@jupyter-widgets/controls",
            "_model_module_version": "1.5.0",
            "_model_name": "DescriptionStyleModel",
            "_view_count": null,
            "_view_module": "@jupyter-widgets/base",
            "_view_module_version": "1.2.0",
            "_view_name": "StyleView",
            "description_width": ""
          }
        },
        "49cf50a8688f49f4a30cf0c6e47be828": {
          "model_module": "@jupyter-widgets/base",
          "model_name": "LayoutModel",
          "model_module_version": "1.2.0",
          "state": {
            "_model_module": "@jupyter-widgets/base",
            "_model_module_version": "1.2.0",
            "_model_name": "LayoutModel",
            "_view_count": null,
            "_view_module": "@jupyter-widgets/base",
            "_view_module_version": "1.2.0",
            "_view_name": "LayoutView",
            "align_content": null,
            "align_items": null,
            "align_self": null,
            "border": null,
            "bottom": null,
            "display": null,
            "flex": null,
            "flex_flow": null,
            "grid_area": null,
            "grid_auto_columns": null,
            "grid_auto_flow": null,
            "grid_auto_rows": null,
            "grid_column": null,
            "grid_gap": null,
            "grid_row": null,
            "grid_template_areas": null,
            "grid_template_columns": null,
            "grid_template_rows": null,
            "height": null,
            "justify_content": null,
            "justify_items": null,
            "left": null,
            "margin": null,
            "max_height": null,
            "max_width": null,
            "min_height": null,
            "min_width": null,
            "object_fit": null,
            "object_position": null,
            "order": null,
            "overflow": null,
            "overflow_x": null,
            "overflow_y": null,
            "padding": null,
            "right": null,
            "top": null,
            "visibility": null,
            "width": null
          }
        },
        "4c5483b51d204455bf1408d58efb0565": {
          "model_module": "@jupyter-widgets/controls",
          "model_name": "ProgressStyleModel",
          "model_module_version": "1.5.0",
          "state": {
            "_model_module": "@jupyter-widgets/controls",
            "_model_module_version": "1.5.0",
            "_model_name": "ProgressStyleModel",
            "_view_count": null,
            "_view_module": "@jupyter-widgets/base",
            "_view_module_version": "1.2.0",
            "_view_name": "StyleView",
            "bar_color": null,
            "description_width": ""
          }
        },
        "d418f33994c44aed91fbbbd5920e065a": {
          "model_module": "@jupyter-widgets/base",
          "model_name": "LayoutModel",
          "model_module_version": "1.2.0",
          "state": {
            "_model_module": "@jupyter-widgets/base",
            "_model_module_version": "1.2.0",
            "_model_name": "LayoutModel",
            "_view_count": null,
            "_view_module": "@jupyter-widgets/base",
            "_view_module_version": "1.2.0",
            "_view_name": "LayoutView",
            "align_content": null,
            "align_items": null,
            "align_self": null,
            "border": null,
            "bottom": null,
            "display": null,
            "flex": null,
            "flex_flow": null,
            "grid_area": null,
            "grid_auto_columns": null,
            "grid_auto_flow": null,
            "grid_auto_rows": null,
            "grid_column": null,
            "grid_gap": null,
            "grid_row": null,
            "grid_template_areas": null,
            "grid_template_columns": null,
            "grid_template_rows": null,
            "height": null,
            "justify_content": null,
            "justify_items": null,
            "left": null,
            "margin": null,
            "max_height": null,
            "max_width": null,
            "min_height": null,
            "min_width": null,
            "object_fit": null,
            "object_position": null,
            "order": null,
            "overflow": null,
            "overflow_x": null,
            "overflow_y": null,
            "padding": null,
            "right": null,
            "top": null,
            "visibility": null,
            "width": null
          }
        },
        "e75bf864b0b44590b809b3423eaaf3fc": {
          "model_module": "@jupyter-widgets/controls",
          "model_name": "DescriptionStyleModel",
          "model_module_version": "1.5.0",
          "state": {
            "_model_module": "@jupyter-widgets/controls",
            "_model_module_version": "1.5.0",
            "_model_name": "DescriptionStyleModel",
            "_view_count": null,
            "_view_module": "@jupyter-widgets/base",
            "_view_module_version": "1.2.0",
            "_view_name": "StyleView",
            "description_width": ""
          }
        }
      }
    }
  },
  "nbformat": 4,
  "nbformat_minor": 5
}